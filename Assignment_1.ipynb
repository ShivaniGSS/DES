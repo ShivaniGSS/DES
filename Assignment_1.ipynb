{
 "cells": [
  {
   "cell_type": "markdown",
   "id": "855f2d7a",
   "metadata": {
    "toc": true
   },
   "source": [
    "<h1>Table of Contents<span class=\"tocSkip\"></span></h1>\n",
    "<div class=\"toc\"><ul class=\"toc-item\"><li><span><a href=\"#Independent-Study:--Discrete-Event-Simulation\" data-toc-modified-id=\"Independent-Study:--Discrete-Event-Simulation-1\"><span class=\"toc-item-num\">1&nbsp;&nbsp;</span>Independent Study:  Discrete Event Simulation</a></span><ul class=\"toc-item\"><li><span><a href=\"#Background\" data-toc-modified-id=\"Background-1.1\"><span class=\"toc-item-num\">1.1&nbsp;&nbsp;</span>Background</a></span></li><li><span><a href=\"#Exercises\" data-toc-modified-id=\"Exercises-1.2\"><span class=\"toc-item-num\">1.2&nbsp;&nbsp;</span>Exercises</a></span><ul class=\"toc-item\"><li><span><a href=\"#SIMPLEST-CASE:--Build-a-model-to-represent-the-following-queueing-system-(with-all-parameters-set-up-to-be-easily-modified):\" data-toc-modified-id=\"SIMPLEST-CASE:--Build-a-model-to-represent-the-following-queueing-system-(with-all-parameters-set-up-to-be-easily-modified):-1.2.1\"><span class=\"toc-item-num\">1.2.1&nbsp;&nbsp;</span>SIMPLEST CASE:  Build a model to represent the following queueing system (with all parameters set up to be easily modified):</a></span></li></ul></li><li><span><a href=\"#ADDING-TIME-DEPENDENCY:-Starting-with-your-model-from-(1),-and-update-it-as-follows:\" data-toc-modified-id=\"ADDING-TIME-DEPENDENCY:-Starting-with-your-model-from-(1),-and-update-it-as-follows:-1.3\"><span class=\"toc-item-num\">1.3&nbsp;&nbsp;</span>ADDING TIME DEPENDENCY: Starting with your model from (1), and update it as follows:</a></span></li></ul></li><li><span><a href=\"#Setup\" data-toc-modified-id=\"Setup-2\"><span class=\"toc-item-num\">2&nbsp;&nbsp;</span>Setup</a></span><ul class=\"toc-item\"><li><span><a href=\"#Library-import\" data-toc-modified-id=\"Library-import-2.1\"><span class=\"toc-item-num\">2.1&nbsp;&nbsp;</span>Library import</a></span></li></ul></li><li><span><a href=\"#Exercises\" data-toc-modified-id=\"Exercises-3\"><span class=\"toc-item-num\">3&nbsp;&nbsp;</span>Exercises</a></span><ul class=\"toc-item\"><li><span><a href=\"#Simplest-Case\" data-toc-modified-id=\"Simplest-Case-3.1\"><span class=\"toc-item-num\">3.1&nbsp;&nbsp;</span>Simplest Case</a></span></li><li><span><a href=\"#Simplest-Case\" data-toc-modified-id=\"Simplest-Case-3.2\"><span class=\"toc-item-num\">3.2&nbsp;&nbsp;</span>Simplest Case</a></span></li><li><span><a href=\"#Time-dependent-multi-agent-case\" data-toc-modified-id=\"Time-dependent-multi-agent-case-3.3\"><span class=\"toc-item-num\">3.3&nbsp;&nbsp;</span>Time dependent multi-agent case</a></span></li><li><span><a href=\"#Scratch-Work\" data-toc-modified-id=\"Scratch-Work-3.4\"><span class=\"toc-item-num\">3.4&nbsp;&nbsp;</span>Scratch Work</a></span></li><li><span><a href=\"#Statistical-Analysis\" data-toc-modified-id=\"Statistical-Analysis-3.5\"><span class=\"toc-item-num\">3.5&nbsp;&nbsp;</span>Statistical Analysis</a></span><ul class=\"toc-item\"><li><span><a href=\"#Agent-Utilization\" data-toc-modified-id=\"Agent-Utilization-3.5.1\"><span class=\"toc-item-num\">3.5.1&nbsp;&nbsp;</span>Agent Utilization</a></span></li><li><span><a href=\"#Time-in-Queue\" data-toc-modified-id=\"Time-in-Queue-3.5.2\"><span class=\"toc-item-num\">3.5.2&nbsp;&nbsp;</span>Time in Queue</a></span></li><li><span><a href=\"#Time-in-System\" data-toc-modified-id=\"Time-in-System-3.5.3\"><span class=\"toc-item-num\">3.5.3&nbsp;&nbsp;</span>Time in System</a></span></li></ul></li></ul></li><li><span><a href=\"#References\" data-toc-modified-id=\"References-4\"><span class=\"toc-item-num\">4&nbsp;&nbsp;</span>References</a></span></li></ul></div>"
   ]
  },
  {
   "cell_type": "markdown",
   "id": "e17809ac",
   "metadata": {},
   "source": [
    "# Independent Study:  Discrete Event Simulation\n",
    "__Professor Vijay Mehrotra \\\n",
    "Theodore Mefford \\\n",
    "University of San Francisco \\\n",
    "Assignment #1:  Initial Simulation Models__\n",
    "## Background\n",
    "There are several goals for these initial assignments:\n",
    "\n",
    "- Solidify your understanding of the basic concepts associated with discrete-event simulation modeling and metrics\n",
    "- Enable you to gain experience with building simulation models in the Python environment using SimPy and/or other libraries, capturing system performance data, and analyzing results\n",
    "- Develop your ideas for building mor complex future simulations relevant for our operational research with vRad\n",
    "\n",
    "The structure of these initial assignment is to begin with relatively simple scenarios and then to add additional dimensions and complexity (time-dependent system parameters, multiple customer types, multiple agent types, more elaborate routing rules, etc). \n",
    "\n",
    "The target date for completing this assignment is Friday, September 24\n",
    "\n",
    "Please let me know if you have any questions at all. \n",
    "\n",
    "\n",
    "## Exercises\n",
    "### SIMPLEST CASE:  Build a model to represent the following queueing system (with all parameters set up to be easily modified):\n",
    "- Simulation Parameters:\n",
    "- Duration:  \t8 simulated hours\n",
    "- Iterations: \t100\n",
    "\n",
    "- Arrivals:  a single Customer Type with arrivals following a Poisson Process (mean time between arrivals is an exponential distribution with a mean of 2 minutes)\n",
    "\n",
    "- Server:  A single Agent that serves these customers on a First-Come-First-Served basis,, with processing times following an exponential distribution with a mean of 1.5 minutes.\n",
    "\n",
    "- Output Data to Capture:  For each customer that enters the system, capture the iteration number, the time of arrival, the time at which service is initiated, the time at which service is completed.  \n",
    "\n",
    "- For the single Agent in the system, track the length of each idle period (which concludes when the Agent begins serving a customer) and the length of each busy period (which concludes when the Agent finishes serving a customer at a time when there are no other customers in queue). \n",
    "\n",
    "- Output Statistics to Report:  \n",
    "\n",
    "- Agent Utilization:  (Sum of the duration of busy intervals) / \n",
    "- Total Simulation Length)\n",
    "\n",
    "- Time in Queue: (Time of Service Initiation – Time of Arrival into System)\n",
    "Mean \n",
    "Histogram\n",
    "\n",
    "- Time in System:  (Time of Service Completion – Time of Arrival into System)\n",
    "Mean \n",
    "Histogram\n",
    "\n",
    "NOTE:  Organize your output data so that you can report these statistics for individual iterations and overall across all simulations. \n",
    "\n",
    "## ADDING TIME DEPENDENCY: Starting with your model from (1), and update it as follows:\n",
    "- Arrivals:  a single Customer Type that arrives following a Poisson Process, with the mean time between arrivals being an exponential distribution that varies by hour:  { 2 min, 1.6 minutes, 1.3 minute, 1.05 minutes, 1 minute, 1.1 minutes, 1.4 minutes, 1.8 minutes } \n",
    "\n",
    "- Servers:  A group of Agents that serves these customers on a First-Come-First-Served basis, with processing times following an exponential distribution with a mean of 90 seconds. The number of agents in the group varies over time:  { 1, 1, 2, 2, 3,3, 2, 2 } \n",
    "\n",
    "- Output Data to Capture:  For each customer that enters the system, capture the iteration number, the time of arrival, the time at which service is initiated, the time at which service is completed.  \n",
    "\n",
    "- For each Agent in the system, track the length of each idle period (which concludes when the Agent begins serving a customer) and the length of each busy period (which concludes when the Agent finishes serving a customer at a time when there are no other customers in queue). \n",
    "\n",
    "- Output Statistics to Report:  \n",
    "\n",
    "- Agent Utilization:  (Sum of the duration of busy intervals) / \n",
    "(Period Length * Number of Agents Staffed During Period)\n",
    "\n",
    "- Time in Queue: (Time of Service Initiation – Time of Arrival into System)\n",
    "Mean \n",
    "Histogram\n",
    "\n",
    "- Time in System:  (Time of Service Completion – Time of Arrival into System)\n",
    "Mean \n",
    "Histogram\n",
    "\n",
    "NOTE:  Organize your output data so that you can report these statistics for individual time periods, individual iterations, and overall across all iterations. \n"
   ]
  },
  {
   "cell_type": "markdown",
   "id": "67ad9bdf",
   "metadata": {},
   "source": [
    "# Setup\n",
    "\n",
    "## Library import\n",
    "We import all the required Python libraries"
   ]
  },
  {
   "cell_type": "code",
   "execution_count": 2,
   "id": "b76e2223",
   "metadata": {
    "ExecuteTime": {
     "end_time": "2021-09-16T01:24:35.827498Z",
     "start_time": "2021-09-16T01:24:35.748500Z"
    }
   },
   "outputs": [
    {
     "data": {
      "text/html": [
       "        <script type=\"text/javascript\">\n",
       "        window.PlotlyConfig = {MathJaxConfig: 'local'};\n",
       "        if (window.MathJax) {MathJax.Hub.Config({SVG: {font: \"STIX-Web\"}});}\n",
       "        if (typeof require !== 'undefined') {\n",
       "        require.undef(\"plotly\");\n",
       "        requirejs.config({\n",
       "            paths: {\n",
       "                'plotly': ['https://cdn.plot.ly/plotly-latest.min']\n",
       "            }\n",
       "        });\n",
       "        require(['plotly'], function(Plotly) {\n",
       "            window._Plotly = Plotly;\n",
       "        });\n",
       "        }\n",
       "        </script>\n",
       "        "
      ]
     },
     "metadata": {},
     "output_type": "display_data"
    },
    {
     "data": {
      "text/html": [
       "        <script type=\"text/javascript\">\n",
       "        window.PlotlyConfig = {MathJaxConfig: 'local'};\n",
       "        if (window.MathJax) {MathJax.Hub.Config({SVG: {font: \"STIX-Web\"}});}\n",
       "        if (typeof require !== 'undefined') {\n",
       "        require.undef(\"plotly\");\n",
       "        requirejs.config({\n",
       "            paths: {\n",
       "                'plotly': ['https://cdn.plot.ly/plotly-latest.min']\n",
       "            }\n",
       "        });\n",
       "        require(['plotly'], function(Plotly) {\n",
       "            window._Plotly = Plotly;\n",
       "        });\n",
       "        }\n",
       "        </script>\n",
       "        "
      ]
     },
     "metadata": {},
     "output_type": "display_data"
    }
   ],
   "source": [
    "# Data manipulation\n",
    "import pandas as pd\n",
    "import numpy as np\n",
    "\n",
    "# Options for pandas\n",
    "pd.options.display.max_columns = 50\n",
    "pd.options.display.max_rows = 30\n",
    "\n",
    "# Visualizations\n",
    "import plotly\n",
    "import plotly.graph_objs as go\n",
    "import plotly.offline as ply\n",
    "plotly.offline.init_notebook_mode(connected=True)\n",
    "\n",
    "import cufflinks as cf\n",
    "cf.go_offline(connected=True)\n",
    "cf.set_config_file(theme='white')\n",
    "\n",
    "import matplotlib.pyplot as plt\n",
    "\n",
    "import statsmodels.api as sm\n",
    "from scipy.optimize import curve_fit\n",
    "\n",
    "# Autoreload extension\n",
    "if 'autoreload' not in get_ipython().extension_manager.loaded:\n",
    "    %load_ext autoreload\n",
    "    \n",
    "%autoreload 2"
   ]
  },
  {
   "cell_type": "markdown",
   "id": "35e5f0a3",
   "metadata": {
    "ExecuteTime": {
     "end_time": "2021-09-14T04:54:38.282889Z",
     "start_time": "2021-09-14T04:54:38.216376Z"
    }
   },
   "source": [
    "# Exercises"
   ]
  },
  {
   "cell_type": "markdown",
   "id": "6098c0d0",
   "metadata": {
    "ExecuteTime": {
     "end_time": "2021-09-14T04:55:33.613446Z",
     "start_time": "2021-09-14T04:55:33.540410Z"
    }
   },
   "source": [
    "## Simplest Case\n",
    "__I'll start by trying everything from scratch as a learning exercise before looking for resources__"
   ]
  },
  {
   "cell_type": "markdown",
   "id": "60eafa31",
   "metadata": {},
   "source": [
    "__I could use either 8 hrs or 100 iterations or both to stop the loop but will use iterations here. At each iter a global time variable will update by randomly sampling the exponential distribution with mean of 2 minutes and indicates the arrival of a new customer. Customers will be placed in a queue. Many ways to do this list is easy.__"
   ]
  },
  {
   "cell_type": "code",
   "execution_count": 3,
   "id": "ceef0659",
   "metadata": {
    "ExecuteTime": {
     "end_time": "2021-09-16T01:24:37.625281Z",
     "start_time": "2021-09-16T01:24:37.541283Z"
    }
   },
   "outputs": [],
   "source": [
    "class Queue:\n",
    "    def __init__(self):\n",
    "        self.elements = []\n",
    "\n",
    "    def enqueue(self, data):\n",
    "        self.elements.append(data)\n",
    "        return data\n",
    "\n",
    "    def dequeue(self):\n",
    "        return self.elements.pop(0)\n",
    "\n",
    "    def rear(self):\n",
    "        return self.elements[-1]\n",
    "\n",
    "    def front(self):\n",
    "        return self.elements[0]\n",
    "\n",
    "    def is_empty(self):\n",
    "        return len(self.elements) == 0\n",
    "    \n",
    "    def show(self):\n",
    "        return self.elements\n",
    "    \n",
    "\n",
    "class Agent:\n",
    "    def __init__(self, process_time):\n",
    "        self.queue = Queue()\n",
    "        self.process_time = process_time\n",
    "        self.num_served = 0\n",
    "        self.idle_times = []\n",
    "        self.time_of_last_idle = 0\n",
    "        self.time_last_not_idle = 0\n",
    "        self.busy_times = []\n",
    "        self.time = 0\n",
    "        self.time_of_step = 0\n",
    "        self.queue_length = []\n",
    "        self.service_starts = []\n",
    "        self.service_ends = []\n",
    "        self.service_time = []\n",
    "        \n",
    "    def get_stats(self):\n",
    "        return self.idle_times, self.busy_times, self.queue_length, self.service_starts, self.service_ends, self.service_time \n",
    "        \n",
    "    def get_queue_len(self):\n",
    "        return self.queue_length\n",
    "    \n",
    "    def is_idle(self):\n",
    "        return self.queue.is_empty()\n",
    "    \n",
    "    def show_queue(self):\n",
    "        return self.queue.show()\n",
    "    \n",
    "    def add_customer(self, time):\n",
    "        if self.is_idle():\n",
    "            self.idle_times.append(time - self.time_of_last_idle)\n",
    "            self.time_last_not_idle = time\n",
    "            self.service_starts.append(time)\n",
    "        serv_time = np.random.exponential(self.process_time)\n",
    "        self.service_time.append(serv_time)\n",
    "        self.queue.enqueue(serv_time)    #each customer is represented by the time it will take for them to be served\n",
    "        #print(self.show_queue())\n",
    "        \n",
    "    def update_queue(self, time):\n",
    "        time_remaining = self.time_of_step    #Used to determine if a service occurs during this time chunk\n",
    "        \n",
    "        # Take members out of queue depending on time of step and update new front member to have correct remaining time\n",
    "        # Handling time gets a bit confusing. The internal time will be updated each time a customer is served\n",
    "        \n",
    "        if self.is_idle()==False:\n",
    "            while time_remaining > self.queue.front():\n",
    "                    temp_time_elapsed = self.queue.front()\n",
    "                    self.time += temp_time_elapsed         #update internal time clock\n",
    "                    self.queue.dequeue()\n",
    "                    self.service_ends.append(self.time)\n",
    "                    self.num_served += 1\n",
    "                    if self.is_idle() == False:\n",
    "                        self.service_starts.append(self.time)     \n",
    "                        time_remaining -= temp_time_elapsed   #update time chunk incase multiple are served in this window                        \n",
    "                    else:\n",
    "                        self.busy_times.append(self.time - self.time_last_not_idle)\n",
    "                        self.time_of_last_idle = self.time \n",
    "                        break\n",
    "            else:\n",
    "                self.queue.elements[0] = self.queue.elements[0] - time_remaining  #update the front customer who has been partially served\n",
    "            \n",
    "    def update_process_time(self, process_time):\n",
    "        self.process_time = process_time\n",
    "        \n",
    "    def update(self, time, add_cust_bool=False):\n",
    "        self.time_of_step =  time - self.time\n",
    "        self.update_queue(time)\n",
    "        if add_cust_bool:\n",
    "            self.add_customer(time)\n",
    "        self.show_queue()\n",
    "        self.queue_length.append(len(self.queue.elements))\n",
    "        self.time = time \n",
    "        \n",
    "            "
   ]
  },
  {
   "cell_type": "code",
   "execution_count": 25,
   "id": "9810c7f8",
   "metadata": {
    "ExecuteTime": {
     "end_time": "2021-09-16T01:28:21.601293Z",
     "start_time": "2021-09-16T01:28:21.523297Z"
    }
   },
   "outputs": [],
   "source": [
    "class Server:\n",
    "    def __init__(self, num_agents=0):\n",
    "        self.num_agents = num_agents\n",
    "        self.agent_properties = {'process_time': 1.5}\n",
    "        #self.queue = Queue()\n",
    "        self.agents = {}\n",
    "        self.agent_names = []\n",
    "        self.name_iter = 0\n",
    "        self.time = 0\n",
    "        \n",
    "        if self.num_agents != 0:\n",
    "            self.create_agents()\n",
    "        \n",
    "    def create_agent(self):\n",
    "        return Agent(self.agent_properties['process_time'])\n",
    "    \n",
    "    def add_agent(self, name=-1):\n",
    "        #self.num_agents += 1\n",
    "        if name==-1:\n",
    "            name = self.name_iter\n",
    "            self.name_iter += 1\n",
    "        elif name in self.agent_names:\n",
    "            name += \"_\" + str(self.name_iter)\n",
    "            self.name_iter += 1\n",
    "        self.agents[name] = self.create_agent()\n",
    "        self.agent_names.append(name)        \n",
    "    \n",
    "    def create_agents(self):\n",
    "        for i in range(self.num_agents):\n",
    "            self.add_agent()\n",
    "            \n",
    "    def delete_agent(self, agent_name=-1):\n",
    "        if agent_name==-1:\n",
    "            agent_name = self.agent_names[0]\n",
    "        elif agent_name not in self.agent_names:\n",
    "            return \"Please enter the name of an agent who is in the server.\"\n",
    "        self.num_agents -= 1\n",
    "        self.agents.pop(agent_name)\n",
    "        self.agent_names.remove(agent_name)\n",
    "    \n",
    "    def update_agent(self, agent, agent_num, time, add_cust_bool):\n",
    "        self.agent_queues[agent].update(time)\n",
    "        \n",
    "    def is_idle(self, agent_num=0):\n",
    "        return self.agents[agent_num].is_idle()\n",
    "    \n",
    "    def get_stats(self):\n",
    "        return self.agents[0].get_stats()\n",
    "    \n",
    "    def queue_len(self, name):\n",
    "        return len(self.agents[name].queue.elements)\n",
    "    \n",
    "    def decide_queue(self):\n",
    "        min_val = self.queue_len(self.agent_names[0])\n",
    "        agent_to_assign = self.agent_names[0]\n",
    "        for i in range(1,len(self.agents)):\n",
    "            if self.queue_len(self.agent_names[i]) < min_val:\n",
    "                min_val = self.queue_len(self.agent_names[i])\n",
    "                agent_to_assign = self.agent_names[i]\n",
    "        return agent_to_assign\n",
    "    \n",
    "    def get_queue_lengths(self):\n",
    "        len_list = []\n",
    "        for agent in self.agent_names:\n",
    "            len_list.append(self.queue_len(agent))\n",
    "        return len_list\n",
    "            \n",
    "    def total_in_queue(self):\n",
    "        return np.sum(self.get_queue_lengths())\n",
    "    \n",
    "    def update_server(self, time, add_customer=False):\n",
    "        if add_customer==True:\n",
    "            agent_to_assign = self.decide_queue()\n",
    "            self.agents[agent_to_assign].update(time, True)    \n",
    "            for agent in self.agent_names:\n",
    "                if agent is not agent_to_assign:\n",
    "                    self.agents[agent].update(time)\n",
    "        else:\n",
    "            for agent in self.agent_names:\n",
    "                self.agents[agent].update(time)\n",
    "        self.time += time\n",
    "\n"
   ]
  },
  {
   "cell_type": "code",
   "execution_count": 65,
   "id": "6a553bc3",
   "metadata": {
    "ExecuteTime": {
     "end_time": "2021-09-16T01:45:34.062514Z",
     "start_time": "2021-09-16T01:45:33.985516Z"
    }
   },
   "outputs": [],
   "source": [
    "def run_simple_simulation(arrivals=2, num_agents=1, processing_time=1.5):\n",
    "    s = Server(num_agents)\n",
    "    time = np.random.exponential(arrivals)\n",
    "    arrival_times = []\n",
    "    for i in range(100):\n",
    "        arrival_times.append(time)\n",
    "        s.update_server(time, add_customer=True)\n",
    "        time += np.random.exponential(arrivals)\n",
    "    while(s.is_idle()==False):\n",
    "        s.update_server(time, add_customer=False)\n",
    "        time += 1\n",
    "    return s, arrival_times\n",
    "\n",
    "def run_dynamic_simulation(arrivals=[2, 1.6, 1.3, 1.05, 1, 1.1, 1.4, 1.8], num_agents=1, processing_time=1.5):\n",
    "    s = Server(num_agents)\n",
    "    time = np.random.exponential(arrivals[0])\n",
    "    arrival_times = []\n",
    "    while time < 8*60:\n",
    "        a = np.floor(time%60)\n",
    "        arrival_times.append(time)\n",
    "        s.update_server(time, add_customer=True)\n",
    "        if int(a) < len(arrivals):\n",
    "            time += np.random.exponential(arrivals[int(a)])\n",
    "        else:\n",
    "            break\n",
    "    while(s.is_idle()==False):\n",
    "        s.update_server(time, add_customer=False)\n",
    "        time += 1\n",
    "    return s, arrival_times\n",
    "        \n",
    "def make_stats_dataframe(server):\n",
    "    idle_times, busy_times, queue_length, service_starts, service_ends, service_time = s.get_stats()\n",
    "    df = pd.DataFrame(columns=['arrival_time','queue_length','service_starts','service_ends','service_time','check_serv'])\n",
    "    df.arrival_time = arrival_times\n",
    "    df.queue_length = queue_length[:len(arrival_times)]\n",
    "    df.service_time = service_time\n",
    "    df.service_starts[:len(service_starts)] = service_starts\n",
    "    df.service_ends[:len(service_ends)] = service_ends\n",
    "    df['check_serv'] = df.service_ends - df.service_starts\n",
    "    df['bool_comp'] = np.round(df.check_serv - df.service_time,2) == 0\n",
    "    return df\n",
    "\n",
    "def simulation_analysis(df):\n",
    "    df['time_in_queue'] = df.service_starts - df.arrival_time\n",
    "    print(\"Mean time in queue is: \", df.time_in_queue.mean())\n",
    "    plt.figure(figsize=(7, 4))\n",
    "    values = plt.hist(df.time_in_queue, bins=7)\n",
    "    plt.show()\n",
    "    x, y = values[1], values[0]\n",
    "    \n",
    "    df['time_in_system'] =  df.service_ends - df.arrival_time\n",
    "    print(\"Mean time in system is: \", df.time_in_system.mean())\n",
    "    plt.figure(figsize=(7, 4))\n",
    "    plt.hist(df.time_in_system, bins=7)\n",
    "    plt.show()\n",
    "    \n",
    "    "
   ]
  },
  {
   "cell_type": "markdown",
   "id": "05b5c55e",
   "metadata": {},
   "source": [
    "## Simplest Case"
   ]
  },
  {
   "cell_type": "code",
   "execution_count": 59,
   "id": "3e5fdfb5",
   "metadata": {
    "ExecuteTime": {
     "end_time": "2021-09-16T01:42:55.750080Z",
     "start_time": "2021-09-16T01:42:55.674082Z"
    }
   },
   "outputs": [],
   "source": [
    "s, arrival_times = run_simple_simulation()"
   ]
  },
  {
   "cell_type": "code",
   "execution_count": 60,
   "id": "b8d07061",
   "metadata": {
    "ExecuteTime": {
     "end_time": "2021-09-16T01:42:56.395129Z",
     "start_time": "2021-09-16T01:42:56.320133Z"
    }
   },
   "outputs": [],
   "source": [
    "df = make_stats_dataframe(s)"
   ]
  },
  {
   "cell_type": "code",
   "execution_count": 61,
   "id": "b97a574d",
   "metadata": {
    "ExecuteTime": {
     "end_time": "2021-09-16T01:42:56.904129Z",
     "start_time": "2021-09-16T01:42:56.670132Z"
    }
   },
   "outputs": [
    {
     "name": "stdout",
     "output_type": "stream",
     "text": [
      "Mean time in queue is:  4.421635235182128\n"
     ]
    },
    {
     "data": {
      "image/png": "[encoded data removed]",
      "text/plain": [
       "<Figure size 504x288 with 1 Axes>"
      ]
     },
     "metadata": {
      "needs_background": "light"
     },
     "output_type": "display_data"
    },
    {
     "name": "stdout",
     "output_type": "stream",
     "text": [
      "Mean time in system is:  6.229479140277899\n"
     ]
    },
    {
     "data": {
      "image/png": "[encoded data removed]",
      "text/plain": [
       "<Figure size 504x288 with 1 Axes>"
      ]
     },
     "metadata": {
      "needs_background": "light"
     },
     "output_type": "display_data"
    }
   ],
   "source": [
    "simulation_analysis(df)"
   ]
  },
  {
   "cell_type": "code",
   "execution_count": null,
   "id": "fd8f21b4",
   "metadata": {},
   "outputs": [],
   "source": []
  },
  {
   "cell_type": "code",
   "execution_count": null,
   "id": "5b9bf6b0",
   "metadata": {},
   "outputs": [],
   "source": []
  },
  {
   "cell_type": "markdown",
   "id": "6f7bd6ac",
   "metadata": {},
   "source": [
    "## Time dependent multi-agent case"
   ]
  },
  {
   "cell_type": "markdown",
   "id": "8a9111d2",
   "metadata": {},
   "source": [
    "__Single agent but varying customer arrival__"
   ]
  },
  {
   "cell_type": "code",
   "execution_count": 66,
   "id": "6b4ec6eb",
   "metadata": {
    "ExecuteTime": {
     "end_time": "2021-09-16T01:45:38.410004Z",
     "start_time": "2021-09-16T01:45:38.341005Z"
    }
   },
   "outputs": [],
   "source": [
    "s, arrival_times = run_dynamic_simulation()"
   ]
  },
  {
   "cell_type": "code",
   "execution_count": 68,
   "id": "039ac076",
   "metadata": {
    "ExecuteTime": {
     "end_time": "2021-09-16T01:45:47.037288Z",
     "start_time": "2021-09-16T01:45:46.950287Z"
    }
   },
   "outputs": [],
   "source": [
    "df = make_stats_dataframe(s)"
   ]
  },
  {
   "cell_type": "code",
   "execution_count": 69,
   "id": "59735bd3",
   "metadata": {
    "ExecuteTime": {
     "end_time": "2021-09-16T01:45:52.587614Z",
     "start_time": "2021-09-16T01:45:52.349613Z"
    }
   },
   "outputs": [
    {
     "name": "stdout",
     "output_type": "stream",
     "text": [
      "Mean time in queue is:  2.943013790076689\n"
     ]
    },
    {
     "data": {
      "image/png": "[encoded data removed]",
      "text/plain": [
       "<Figure size 504x288 with 1 Axes>"
      ]
     },
     "metadata": {
      "needs_background": "light"
     },
     "output_type": "display_data"
    },
    {
     "name": "stdout",
     "output_type": "stream",
     "text": [
      "Mean time in system is:  4.955140541871546\n"
     ]
    },
    {
     "data": {
      "image/png": "[encoded data removed]",
      "text/plain": [
       "<Figure size 504x288 with 1 Axes>"
      ]
     },
     "metadata": {
      "needs_background": "light"
     },
     "output_type": "display_data"
    }
   ],
   "source": [
    "simulation_analysis(df)"
   ]
  },
  {
   "cell_type": "code",
   "execution_count": null,
   "id": "dec3b9f1",
   "metadata": {},
   "outputs": [],
   "source": []
  },
  {
   "cell_type": "code",
   "execution_count": null,
   "id": "0788fdae",
   "metadata": {},
   "outputs": [],
   "source": []
  },
  {
   "cell_type": "code",
   "execution_count": null,
   "id": "42967634",
   "metadata": {},
   "outputs": [],
   "source": []
  },
  {
   "cell_type": "code",
   "execution_count": null,
   "id": "21cfc3d1",
   "metadata": {},
   "outputs": [],
   "source": []
  },
  {
   "cell_type": "code",
   "execution_count": null,
   "id": "b7ddd3ff",
   "metadata": {},
   "outputs": [],
   "source": []
  },
  {
   "cell_type": "code",
   "execution_count": null,
   "id": "8536f455",
   "metadata": {},
   "outputs": [],
   "source": []
  },
  {
   "cell_type": "code",
   "execution_count": null,
   "id": "9b65a6ed",
   "metadata": {},
   "outputs": [],
   "source": []
  },
  {
   "cell_type": "markdown",
   "id": "0f28b182",
   "metadata": {},
   "source": [
    "## Scratch Work"
   ]
  },
  {
   "cell_type": "code",
   "execution_count": 879,
   "id": "3e92b37d",
   "metadata": {
    "ExecuteTime": {
     "end_time": "2021-09-16T00:55:43.289046Z",
     "start_time": "2021-09-16T00:55:43.210041Z"
    }
   },
   "outputs": [],
   "source": [
    "s.add_agent('Carl')"
   ]
  },
  {
   "cell_type": "code",
   "execution_count": 880,
   "id": "d3a3277f",
   "metadata": {
    "ExecuteTime": {
     "end_time": "2021-09-16T00:55:43.557046Z",
     "start_time": "2021-09-16T00:55:43.481049Z"
    }
   },
   "outputs": [
    {
     "data": {
      "text/plain": [
       "{0: <__main__.Agent at 0x23b326c4f48>,\n",
       " 'Carl': <__main__.Agent at 0x23b33d50f88>}"
      ]
     },
     "execution_count": 880,
     "metadata": {},
     "output_type": "execute_result"
    }
   ],
   "source": [
    "s.agents"
   ]
  },
  {
   "cell_type": "code",
   "execution_count": 881,
   "id": "686e6ddf",
   "metadata": {
    "ExecuteTime": {
     "end_time": "2021-09-16T00:55:43.828048Z",
     "start_time": "2021-09-16T00:55:43.749049Z"
    }
   },
   "outputs": [
    {
     "data": {
      "text/plain": [
       "{0: <__main__.Agent at 0x23b326c4f48>,\n",
       " 'Carl': <__main__.Agent at 0x23b33d50f88>,\n",
       " 'Carl_0': <__main__.Agent at 0x23b33d50288>}"
      ]
     },
     "execution_count": 881,
     "metadata": {},
     "output_type": "execute_result"
    }
   ],
   "source": [
    "s.add_agent('Carl')\n",
    "s.agents"
   ]
  },
  {
   "cell_type": "code",
   "execution_count": 882,
   "id": "12a4fc89",
   "metadata": {
    "ExecuteTime": {
     "end_time": "2021-09-16T00:55:44.098050Z",
     "start_time": "2021-09-16T00:55:44.021052Z"
    }
   },
   "outputs": [
    {
     "data": {
      "text/plain": [
       "[0, 'Carl', 'Carl_0']"
      ]
     },
     "execution_count": 882,
     "metadata": {},
     "output_type": "execute_result"
    }
   ],
   "source": [
    "s.agent_names"
   ]
  },
  {
   "cell_type": "code",
   "execution_count": 883,
   "id": "80a5843d",
   "metadata": {
    "ExecuteTime": {
     "end_time": "2021-09-16T00:55:44.367049Z",
     "start_time": "2021-09-16T00:55:44.288051Z"
    }
   },
   "outputs": [],
   "source": [
    "s.delete_agent()"
   ]
  },
  {
   "cell_type": "code",
   "execution_count": 884,
   "id": "9df3fd63",
   "metadata": {
    "ExecuteTime": {
     "end_time": "2021-09-16T00:55:44.635049Z",
     "start_time": "2021-09-16T00:55:44.558048Z"
    }
   },
   "outputs": [
    {
     "data": {
      "text/plain": [
       "{'Carl': <__main__.Agent at 0x23b33d50f88>,\n",
       " 'Carl_0': <__main__.Agent at 0x23b33d50288>}"
      ]
     },
     "execution_count": 884,
     "metadata": {},
     "output_type": "execute_result"
    }
   ],
   "source": [
    "s.agents"
   ]
  },
  {
   "cell_type": "code",
   "execution_count": 885,
   "id": "1ba6f306",
   "metadata": {
    "ExecuteTime": {
     "end_time": "2021-09-16T00:55:44.901051Z",
     "start_time": "2021-09-16T00:55:44.823051Z"
    }
   },
   "outputs": [
    {
     "data": {
      "text/plain": [
       "'Please enter the name of an agent who is in the server.'"
      ]
     },
     "execution_count": 885,
     "metadata": {},
     "output_type": "execute_result"
    }
   ],
   "source": [
    "s.delete_agent(\"John\")"
   ]
  },
  {
   "cell_type": "code",
   "execution_count": 886,
   "id": "8bd8cded",
   "metadata": {
    "ExecuteTime": {
     "end_time": "2021-09-16T00:55:45.171051Z",
     "start_time": "2021-09-16T00:55:45.092048Z"
    }
   },
   "outputs": [
    {
     "data": {
      "text/plain": [
       "0"
      ]
     },
     "execution_count": 886,
     "metadata": {},
     "output_type": "execute_result"
    }
   ],
   "source": [
    "s.queue_len('Carl')"
   ]
  },
  {
   "cell_type": "code",
   "execution_count": 890,
   "id": "8ecf9dea",
   "metadata": {
    "ExecuteTime": {
     "end_time": "2021-09-16T00:55:49.392376Z",
     "start_time": "2021-09-16T00:55:49.311378Z"
    }
   },
   "outputs": [],
   "source": [
    "s.update_server(2, True)"
   ]
  },
  {
   "cell_type": "code",
   "execution_count": 891,
   "id": "aeddacea",
   "metadata": {
    "ExecuteTime": {
     "end_time": "2021-09-16T00:55:49.821376Z",
     "start_time": "2021-09-16T00:55:49.735378Z"
    }
   },
   "outputs": [
    {
     "data": {
      "text/plain": [
       "[1, 1]"
      ]
     },
     "execution_count": 891,
     "metadata": {},
     "output_type": "execute_result"
    }
   ],
   "source": [
    "s.get_queue_lengths()"
   ]
  },
  {
   "cell_type": "code",
   "execution_count": 892,
   "id": "565fd9c8",
   "metadata": {
    "ExecuteTime": {
     "end_time": "2021-09-16T00:55:50.249190Z",
     "start_time": "2021-09-16T00:55:50.164193Z"
    }
   },
   "outputs": [
    {
     "data": {
      "text/plain": [
       "2"
      ]
     },
     "execution_count": 892,
     "metadata": {},
     "output_type": "execute_result"
    }
   ],
   "source": [
    "s.total_in_queue()"
   ]
  },
  {
   "cell_type": "code",
   "execution_count": 893,
   "id": "c2ada00e",
   "metadata": {
    "ExecuteTime": {
     "end_time": "2021-09-16T00:55:53.409533Z",
     "start_time": "2021-09-16T00:55:53.334534Z"
    }
   },
   "outputs": [
    {
     "data": {
      "text/plain": [
       "4"
      ]
     },
     "execution_count": 893,
     "metadata": {},
     "output_type": "execute_result"
    }
   ],
   "source": [
    "s.time"
   ]
  },
  {
   "cell_type": "code",
   "execution_count": null,
   "id": "b47d126c",
   "metadata": {},
   "outputs": [],
   "source": []
  },
  {
   "cell_type": "code",
   "execution_count": null,
   "id": "03fbb371",
   "metadata": {},
   "outputs": [],
   "source": []
  },
  {
   "cell_type": "code",
   "execution_count": 493,
   "id": "2b455aef",
   "metadata": {
    "ExecuteTime": {
     "end_time": "2021-09-15T00:10:43.803624Z",
     "start_time": "2021-09-15T00:10:43.732317Z"
    },
    "scrolled": true
   },
   "outputs": [],
   "source": [
    "s = Server(num_agents=1)\n",
    "time = np.random.exponential(2)\n",
    "arrival_times = []\n",
    "for i in range(100):\n",
    "    arrival_times.append(time)\n",
    "    s.update(time, True)\n",
    "    time += np.random.exponential(2)\n",
    "    "
   ]
  },
  {
   "cell_type": "code",
   "execution_count": 494,
   "id": "ecbfcbce",
   "metadata": {
    "ExecuteTime": {
     "end_time": "2021-09-15T00:10:45.062355Z",
     "start_time": "2021-09-15T00:10:45.000822Z"
    }
   },
   "outputs": [],
   "source": [
    "while(s.is_idle()==False):\n",
    "    s.update(time, False)\n",
    "    time += 1"
   ]
  },
  {
   "cell_type": "code",
   "execution_count": 495,
   "id": "005c517a",
   "metadata": {
    "ExecuteTime": {
     "end_time": "2021-09-15T00:10:45.653817Z",
     "start_time": "2021-09-15T00:10:45.585662Z"
    }
   },
   "outputs": [
    {
     "data": {
      "text/plain": [
       "True"
      ]
     },
     "execution_count": 495,
     "metadata": {},
     "output_type": "execute_result"
    }
   ],
   "source": [
    "s.is_idle()"
   ]
  },
  {
   "cell_type": "code",
   "execution_count": 496,
   "id": "c6c28d3e",
   "metadata": {
    "ExecuteTime": {
     "end_time": "2021-09-15T00:10:46.201819Z",
     "start_time": "2021-09-15T00:10:46.132824Z"
    },
    "scrolled": true
   },
   "outputs": [],
   "source": [
    "idle_times, busy_times, queue_length, service_starts, service_ends, service_time = s.get_stats()"
   ]
  },
  {
   "cell_type": "code",
   "execution_count": 497,
   "id": "dd430c86",
   "metadata": {
    "ExecuteTime": {
     "end_time": "2021-09-15T00:10:47.434906Z",
     "start_time": "2021-09-15T00:10:47.372618Z"
    }
   },
   "outputs": [],
   "source": [
    "df = pd.DataFrame(columns=['arrival_time','queue_length','service_starts','service_ends','service_time','check_serv'])"
   ]
  },
  {
   "cell_type": "code",
   "execution_count": 498,
   "id": "fc27fcee",
   "metadata": {
    "ExecuteTime": {
     "end_time": "2021-09-15T00:10:48.042476Z",
     "start_time": "2021-09-15T00:10:47.977223Z"
    }
   },
   "outputs": [],
   "source": [
    "df.arrival_time = arrival_times\n",
    "df.queue_length = queue_length[:len(arrival_times)]\n",
    "df.service_time = service_time"
   ]
  },
  {
   "cell_type": "code",
   "execution_count": 499,
   "id": "f78f6aa9",
   "metadata": {
    "ExecuteTime": {
     "end_time": "2021-09-15T00:10:48.558988Z",
     "start_time": "2021-09-15T00:10:48.484993Z"
    },
    "scrolled": true
   },
   "outputs": [
    {
     "data": {
      "text/plain": [
       "(100, 100, 100)"
      ]
     },
     "execution_count": 499,
     "metadata": {},
     "output_type": "execute_result"
    }
   ],
   "source": [
    "len(arrival_times), len(service_starts), len(service_ends)"
   ]
  },
  {
   "cell_type": "code",
   "execution_count": 500,
   "id": "c0d5770e",
   "metadata": {
    "ExecuteTime": {
     "end_time": "2021-09-15T00:10:49.108823Z",
     "start_time": "2021-09-15T00:10:49.042818Z"
    },
    "scrolled": true
   },
   "outputs": [],
   "source": [
    "df.service_starts[:len(service_starts)] = service_starts"
   ]
  },
  {
   "cell_type": "code",
   "execution_count": 501,
   "id": "cb939c1f",
   "metadata": {
    "ExecuteTime": {
     "end_time": "2021-09-15T00:10:49.542233Z",
     "start_time": "2021-09-15T00:10:49.480716Z"
    }
   },
   "outputs": [],
   "source": [
    "df.service_ends[:len(service_ends)] = service_ends"
   ]
  },
  {
   "cell_type": "code",
   "execution_count": 502,
   "id": "e91ceec1",
   "metadata": {
    "ExecuteTime": {
     "end_time": "2021-09-15T00:10:49.773568Z",
     "start_time": "2021-09-15T00:10:49.698136Z"
    }
   },
   "outputs": [],
   "source": [
    "df['check_serv'] = df.service_ends - df.service_starts"
   ]
  },
  {
   "cell_type": "code",
   "execution_count": 503,
   "id": "6726805e",
   "metadata": {
    "ExecuteTime": {
     "end_time": "2021-09-15T00:10:49.993793Z",
     "start_time": "2021-09-15T00:10:49.931371Z"
    },
    "scrolled": true
   },
   "outputs": [],
   "source": [
    "df['bool_comp'] = np.round(df.check_serv - df.service_time,2) == 0"
   ]
  },
  {
   "cell_type": "code",
   "execution_count": 504,
   "id": "6cb4bccb",
   "metadata": {
    "ExecuteTime": {
     "end_time": "2021-09-15T00:10:50.401091Z",
     "start_time": "2021-09-15T00:10:50.330465Z"
    }
   },
   "outputs": [
    {
     "data": {
      "text/html": [
       "<div>\n",
       "<style scoped>\n",
       "    .dataframe tbody tr th:only-of-type {\n",
       "        vertical-align: middle;\n",
       "    }\n",
       "\n",
       "    .dataframe tbody tr th {\n",
       "        vertical-align: top;\n",
       "    }\n",
       "\n",
       "    .dataframe thead th {\n",
       "        text-align: right;\n",
       "    }\n",
       "</style>\n",
       "<table border=\"1\" class=\"dataframe\">\n",
       "  <thead>\n",
       "    <tr style=\"text-align: right;\">\n",
       "      <th></th>\n",
       "      <th>arrival_time</th>\n",
       "      <th>queue_length</th>\n",
       "      <th>service_starts</th>\n",
       "      <th>service_ends</th>\n",
       "      <th>service_time</th>\n",
       "      <th>check_serv</th>\n",
       "      <th>bool_comp</th>\n",
       "    </tr>\n",
       "  </thead>\n",
       "  <tbody>\n",
       "  </tbody>\n",
       "</table>\n",
       "</div>"
      ],
      "text/plain": [
       "Empty DataFrame\n",
       "Columns: [arrival_time, queue_length, service_starts, service_ends, service_time, check_serv, bool_comp]\n",
       "Index: []"
      ]
     },
     "execution_count": 504,
     "metadata": {},
     "output_type": "execute_result"
    }
   ],
   "source": [
    "df[df.bool_comp==False]"
   ]
  },
  {
   "cell_type": "code",
   "execution_count": 510,
   "id": "027ef6e9",
   "metadata": {
    "ExecuteTime": {
     "end_time": "2021-09-15T21:37:45.416640Z",
     "start_time": "2021-09-15T21:37:45.294641Z"
    }
   },
   "outputs": [
    {
     "data": {
      "text/html": [
       "<div>\n",
       "<style scoped>\n",
       "    .dataframe tbody tr th:only-of-type {\n",
       "        vertical-align: middle;\n",
       "    }\n",
       "\n",
       "    .dataframe tbody tr th {\n",
       "        vertical-align: top;\n",
       "    }\n",
       "\n",
       "    .dataframe thead th {\n",
       "        text-align: right;\n",
       "    }\n",
       "</style>\n",
       "<table border=\"1\" class=\"dataframe\">\n",
       "  <thead>\n",
       "    <tr style=\"text-align: right;\">\n",
       "      <th></th>\n",
       "      <th>arrival_time</th>\n",
       "      <th>queue_length</th>\n",
       "      <th>service_starts</th>\n",
       "      <th>service_ends</th>\n",
       "      <th>service_time</th>\n",
       "      <th>check_serv</th>\n",
       "      <th>bool_comp</th>\n",
       "    </tr>\n",
       "  </thead>\n",
       "  <tbody>\n",
       "    <tr>\n",
       "      <th>0</th>\n",
       "      <td>3.059438</td>\n",
       "      <td>1</td>\n",
       "      <td>3.059438</td>\n",
       "      <td>3.599280</td>\n",
       "      <td>0.539842</td>\n",
       "      <td>0.539842</td>\n",
       "      <td>True</td>\n",
       "    </tr>\n",
       "    <tr>\n",
       "      <th>1</th>\n",
       "      <td>3.600674</td>\n",
       "      <td>1</td>\n",
       "      <td>3.600674</td>\n",
       "      <td>7.850468</td>\n",
       "      <td>4.249794</td>\n",
       "      <td>4.249794</td>\n",
       "      <td>True</td>\n",
       "    </tr>\n",
       "    <tr>\n",
       "      <th>2</th>\n",
       "      <td>5.203191</td>\n",
       "      <td>2</td>\n",
       "      <td>7.850468</td>\n",
       "      <td>8.962993</td>\n",
       "      <td>1.112526</td>\n",
       "      <td>1.112526</td>\n",
       "      <td>True</td>\n",
       "    </tr>\n",
       "    <tr>\n",
       "      <th>3</th>\n",
       "      <td>9.222419</td>\n",
       "      <td>1</td>\n",
       "      <td>9.222419</td>\n",
       "      <td>11.393150</td>\n",
       "      <td>2.170731</td>\n",
       "      <td>2.170731</td>\n",
       "      <td>True</td>\n",
       "    </tr>\n",
       "    <tr>\n",
       "      <th>4</th>\n",
       "      <td>10.067631</td>\n",
       "      <td>2</td>\n",
       "      <td>11.393150</td>\n",
       "      <td>12.153752</td>\n",
       "      <td>0.760602</td>\n",
       "      <td>0.760602</td>\n",
       "      <td>True</td>\n",
       "    </tr>\n",
       "    <tr>\n",
       "      <th>...</th>\n",
       "      <td>...</td>\n",
       "      <td>...</td>\n",
       "      <td>...</td>\n",
       "      <td>...</td>\n",
       "      <td>...</td>\n",
       "      <td>...</td>\n",
       "      <td>...</td>\n",
       "    </tr>\n",
       "    <tr>\n",
       "      <th>95</th>\n",
       "      <td>189.721468</td>\n",
       "      <td>6</td>\n",
       "      <td>194.808036</td>\n",
       "      <td>197.120561</td>\n",
       "      <td>2.312525</td>\n",
       "      <td>2.312525</td>\n",
       "      <td>True</td>\n",
       "    </tr>\n",
       "    <tr>\n",
       "      <th>96</th>\n",
       "      <td>189.734602</td>\n",
       "      <td>7</td>\n",
       "      <td>197.120561</td>\n",
       "      <td>199.922480</td>\n",
       "      <td>2.801920</td>\n",
       "      <td>2.801920</td>\n",
       "      <td>True</td>\n",
       "    </tr>\n",
       "    <tr>\n",
       "      <th>97</th>\n",
       "      <td>192.030623</td>\n",
       "      <td>7</td>\n",
       "      <td>199.922480</td>\n",
       "      <td>200.077194</td>\n",
       "      <td>0.154714</td>\n",
       "      <td>0.154714</td>\n",
       "      <td>True</td>\n",
       "    </tr>\n",
       "    <tr>\n",
       "      <th>98</th>\n",
       "      <td>192.606488</td>\n",
       "      <td>8</td>\n",
       "      <td>200.077194</td>\n",
       "      <td>200.358775</td>\n",
       "      <td>0.281580</td>\n",
       "      <td>0.281580</td>\n",
       "      <td>True</td>\n",
       "    </tr>\n",
       "    <tr>\n",
       "      <th>99</th>\n",
       "      <td>193.474480</td>\n",
       "      <td>8</td>\n",
       "      <td>200.358775</td>\n",
       "      <td>201.135818</td>\n",
       "      <td>0.777043</td>\n",
       "      <td>0.777043</td>\n",
       "      <td>True</td>\n",
       "    </tr>\n",
       "  </tbody>\n",
       "</table>\n",
       "<p>100 rows × 7 columns</p>\n",
       "</div>"
      ],
      "text/plain": [
       "    arrival_time  queue_length  service_starts  service_ends  service_time  \\\n",
       "0       3.059438             1        3.059438      3.599280      0.539842   \n",
       "1       3.600674             1        3.600674      7.850468      4.249794   \n",
       "2       5.203191             2        7.850468      8.962993      1.112526   \n",
       "3       9.222419             1        9.222419     11.393150      2.170731   \n",
       "4      10.067631             2       11.393150     12.153752      0.760602   \n",
       "..           ...           ...             ...           ...           ...   \n",
       "95    189.721468             6      194.808036    197.120561      2.312525   \n",
       "96    189.734602             7      197.120561    199.922480      2.801920   \n",
       "97    192.030623             7      199.922480    200.077194      0.154714   \n",
       "98    192.606488             8      200.077194    200.358775      0.281580   \n",
       "99    193.474480             8      200.358775    201.135818      0.777043   \n",
       "\n",
       "    check_serv  bool_comp  \n",
       "0     0.539842       True  \n",
       "1     4.249794       True  \n",
       "2     1.112526       True  \n",
       "3     2.170731       True  \n",
       "4     0.760602       True  \n",
       "..         ...        ...  \n",
       "95    2.312525       True  \n",
       "96    2.801920       True  \n",
       "97    0.154714       True  \n",
       "98    0.281580       True  \n",
       "99    0.777043       True  \n",
       "\n",
       "[100 rows x 7 columns]"
      ]
     },
     "execution_count": 510,
     "metadata": {},
     "output_type": "execute_result"
    }
   ],
   "source": [
    "df"
   ]
  },
  {
   "cell_type": "code",
   "execution_count": 506,
   "id": "896045d2",
   "metadata": {
    "ExecuteTime": {
     "end_time": "2021-09-15T00:10:51.061611Z",
     "start_time": "2021-09-15T00:10:50.994796Z"
    }
   },
   "outputs": [
    {
     "data": {
      "text/plain": [
       "True"
      ]
     },
     "execution_count": 506,
     "metadata": {},
     "output_type": "execute_result"
    }
   ],
   "source": [
    "s.is_idle()"
   ]
  },
  {
   "cell_type": "code",
   "execution_count": 507,
   "id": "6034f2f6",
   "metadata": {
    "ExecuteTime": {
     "end_time": "2021-09-15T00:10:52.918449Z",
     "start_time": "2021-09-15T00:10:52.846054Z"
    }
   },
   "outputs": [
    {
     "data": {
      "text/plain": [
       "202.62160202849063"
      ]
     },
     "execution_count": 507,
     "metadata": {},
     "output_type": "execute_result"
    }
   ],
   "source": [
    "time"
   ]
  },
  {
   "cell_type": "markdown",
   "id": "e2fda1f3",
   "metadata": {},
   "source": [
    "## Statistical Analysis"
   ]
  },
  {
   "cell_type": "markdown",
   "id": "faa3e0e2",
   "metadata": {},
   "source": [
    "### Agent Utilization\n",
    "__(Sum of the duration of busy intervals) / (Total Simulation Length)__\n"
   ]
  },
  {
   "cell_type": "code",
   "execution_count": 470,
   "id": "16f90ba3",
   "metadata": {
    "ExecuteTime": {
     "end_time": "2021-09-14T23:50:45.641652Z",
     "start_time": "2021-09-14T23:50:45.568121Z"
    }
   },
   "outputs": [
    {
     "data": {
      "text/plain": [
       "0.7738389478039474"
      ]
     },
     "execution_count": 470,
     "metadata": {},
     "output_type": "execute_result"
    }
   ],
   "source": [
    "busy_percent = np.sum(busy_times)/service_ends[-1]\n",
    "busy_percent"
   ]
  },
  {
   "cell_type": "code",
   "execution_count": 471,
   "id": "26ad009d",
   "metadata": {
    "ExecuteTime": {
     "end_time": "2021-09-14T23:50:55.324298Z",
     "start_time": "2021-09-14T23:50:55.261268Z"
    }
   },
   "outputs": [
    {
     "data": {
      "text/plain": [
       "0.22616105219605262"
      ]
     },
     "execution_count": 471,
     "metadata": {},
     "output_type": "execute_result"
    }
   ],
   "source": [
    "idle_percent = np.sum(idle_times)/service_ends[-1]\n",
    "idle_percent"
   ]
  },
  {
   "cell_type": "code",
   "execution_count": 472,
   "id": "c6f0d2f3",
   "metadata": {
    "ExecuteTime": {
     "end_time": "2021-09-14T23:51:03.856401Z",
     "start_time": "2021-09-14T23:51:03.786103Z"
    }
   },
   "outputs": [
    {
     "data": {
      "text/plain": [
       "1.0"
      ]
     },
     "execution_count": 472,
     "metadata": {},
     "output_type": "execute_result"
    }
   ],
   "source": [
    "busy_percent + idle_percent"
   ]
  },
  {
   "cell_type": "markdown",
   "id": "15da9457",
   "metadata": {},
   "source": [
    "### Time in Queue"
   ]
  },
  {
   "cell_type": "code",
   "execution_count": 512,
   "id": "da3e5492",
   "metadata": {
    "ExecuteTime": {
     "end_time": "2021-09-15T21:37:58.020146Z",
     "start_time": "2021-09-15T21:37:57.956146Z"
    }
   },
   "outputs": [],
   "source": [
    "df['time_in_queue'] = df.service_starts - df.arrival_time"
   ]
  },
  {
   "cell_type": "code",
   "execution_count": 513,
   "id": "9ecdd114",
   "metadata": {
    "ExecuteTime": {
     "end_time": "2021-09-15T21:37:58.510762Z",
     "start_time": "2021-09-15T21:37:58.437767Z"
    }
   },
   "outputs": [
    {
     "data": {
      "text/plain": [
       "4.068567766688279"
      ]
     },
     "execution_count": 513,
     "metadata": {},
     "output_type": "execute_result"
    }
   ],
   "source": [
    "df.time_in_queue.mean()"
   ]
  },
  {
   "cell_type": "code",
   "execution_count": 561,
   "id": "4e932bda",
   "metadata": {
    "ExecuteTime": {
     "end_time": "2021-09-15T23:45:25.247216Z",
     "start_time": "2021-09-15T23:45:25.094220Z"
    }
   },
   "outputs": [
    {
     "data": {
      "image/png": "[encoded data removed]",
      "text/plain": [
       "<Figure size 432x288 with 1 Axes>"
      ]
     },
     "metadata": {
      "needs_background": "light"
     },
     "output_type": "display_data"
    }
   ],
   "source": [
    "values = plt.hist(df.time_in_queue, bins=7)\n",
    "x, y = values[1], values[0]"
   ]
  },
  {
   "cell_type": "code",
   "execution_count": 570,
   "id": "54ea47dc",
   "metadata": {
    "ExecuteTime": {
     "end_time": "2021-09-15T23:48:46.377298Z",
     "start_time": "2021-09-15T23:48:46.297297Z"
    }
   },
   "outputs": [
    {
     "data": {
      "text/plain": [
       "1.2843140456707534"
      ]
     },
     "execution_count": 570,
     "metadata": {},
     "output_type": "execute_result"
    }
   ],
   "source": [
    ".5*(x[1]-x[0])"
   ]
  },
  {
   "cell_type": "code",
   "execution_count": 575,
   "id": "446eb354",
   "metadata": {
    "ExecuteTime": {
     "end_time": "2021-09-15T23:50:15.910148Z",
     "start_time": "2021-09-15T23:50:15.831153Z"
    }
   },
   "outputs": [
    {
     "data": {
      "text/plain": [
       "[1.2843140456707534,\n",
       " 3.85294213701226,\n",
       " 6.421570228353767,\n",
       " 8.990198319695272,\n",
       " 11.55882641103678,\n",
       " 14.127454502378287,\n",
       " 16.696082593719794]"
      ]
     },
     "execution_count": 575,
     "metadata": {},
     "output_type": "execute_result"
    }
   ],
   "source": [
    "x2 = [.5*(x[1]-x[0])+i*(x[1]-x[0]) for i in range(len(x)-1)]\n",
    "x2"
   ]
  },
  {
   "cell_type": "code",
   "execution_count": 595,
   "id": "8c83f145",
   "metadata": {
    "ExecuteTime": {
     "end_time": "2021-09-15T23:53:56.318583Z",
     "start_time": "2021-09-15T23:53:56.248581Z"
    }
   },
   "outputs": [
    {
     "data": {
      "text/plain": [
       "(-17.544263037352, 48.28550072164288)"
      ]
     },
     "execution_count": 595,
     "metadata": {},
     "output_type": "execute_result"
    }
   ],
   "source": [
    "a, b = np.polyfit(np.log(x2), y, 1)\n",
    "a, b"
   ]
  },
  {
   "cell_type": "code",
   "execution_count": 596,
   "id": "913b9715",
   "metadata": {
    "ExecuteTime": {
     "end_time": "2021-09-15T23:53:56.794243Z",
     "start_time": "2021-09-15T23:53:56.724248Z"
    }
   },
   "outputs": [],
   "source": [
    "y_fit = a*np.log(x2) + b"
   ]
  },
  {
   "cell_type": "code",
   "execution_count": 597,
   "id": "28c43f56",
   "metadata": {
    "ExecuteTime": {
     "end_time": "2021-09-15T23:53:57.739106Z",
     "start_time": "2021-09-15T23:53:57.387107Z"
    }
   },
   "outputs": [
    {
     "data": {
      "text/plain": [
       "[<matplotlib.lines.Line2D at 0x23b33af2508>]"
      ]
     },
     "execution_count": 597,
     "metadata": {},
     "output_type": "execute_result"
    },
    {
     "data": {
      "image/png": "[encoded data removed]",
      "text/plain": [
       "<Figure size 432x288 with 1 Axes>"
      ]
     },
     "metadata": {
      "needs_background": "light"
     },
     "output_type": "display_data"
    }
   ],
   "source": [
    "plt.hist(df.time_in_queue, bins=7)\n",
    "plt.plot(x2, y_fit)"
   ]
  },
  {
   "cell_type": "code",
   "execution_count": 604,
   "id": "37190003",
   "metadata": {
    "ExecuteTime": {
     "end_time": "2021-09-15T23:56:59.363094Z",
     "start_time": "2021-09-15T23:56:59.214094Z"
    }
   },
   "outputs": [
    {
     "name": "stderr",
     "output_type": "stream",
     "text": [
      "C:\\Users\\Teddy\\AppData\\Roaming\\Python\\Python37\\site-packages\\ipykernel_launcher.py:2: RuntimeWarning:\n",
      "\n",
      "invalid value encountered in log\n",
      "\n"
     ]
    },
    {
     "data": {
      "text/plain": [
       "[<matplotlib.lines.Line2D at 0x23b3250fc48>]"
      ]
     },
     "execution_count": 604,
     "metadata": {},
     "output_type": "execute_result"
    },
    {
     "data": {
      "image/png": "[encoded data removed]",
      "text/plain": [
       "<Figure size 432x288 with 1 Axes>"
      ]
     },
     "metadata": {
      "needs_background": "light"
     },
     "output_type": "display_data"
    }
   ],
   "source": [
    "plt.plot(x2, np.log(y))\n",
    "plt.plot(x2, np.log(y_fit))"
   ]
  },
  {
   "cell_type": "code",
   "execution_count": 600,
   "id": "9e2a14c9",
   "metadata": {
    "ExecuteTime": {
     "end_time": "2021-09-15T23:55:24.267146Z",
     "start_time": "2021-09-15T23:55:24.198148Z"
    }
   },
   "outputs": [],
   "source": [
    "resid = ((y_fit - y)**2)/y"
   ]
  },
  {
   "cell_type": "code",
   "execution_count": 601,
   "id": "6d38e441",
   "metadata": {
    "ExecuteTime": {
     "end_time": "2021-09-15T23:55:28.597003Z",
     "start_time": "2021-09-15T23:55:28.457005Z"
    }
   },
   "outputs": [
    {
     "name": "stderr",
     "output_type": "stream",
     "text": [
      "C:\\Users\\Teddy\\.julia\\conda\\3\\lib\\site-packages\\statsmodels\\graphics\\gofplots.py:993: UserWarning:\n",
      "\n",
      "marker is redundantly defined by the 'marker' keyword argument and the fmt string \"bo\" (-> marker='o'). The keyword argument will take precedence.\n",
      "\n"
     ]
    },
    {
     "data": {
      "image/png": "[encoded data removed]",
      "text/plain": [
       "<Figure size 432x288 with 1 Axes>"
      ]
     },
     "metadata": {
      "needs_background": "light"
     },
     "output_type": "display_data"
    }
   ],
   "source": [
    "sm.qqplot(resid) #normal distribution\n",
    "plt.show()"
   ]
  },
  {
   "cell_type": "code",
   "execution_count": 598,
   "id": "78bd04c1",
   "metadata": {
    "ExecuteTime": {
     "end_time": "2021-09-15T23:54:23.857721Z",
     "start_time": "2021-09-15T23:54:23.688720Z"
    }
   },
   "outputs": [
    {
     "data": {
      "text/plain": [
       "(array([34., 12., 13.,  8., 10.,  2.,  6.,  2.,  0.,  2.,  4.,  4.,  0.,\n",
       "         0.,  3.]),\n",
       " array([ 0.        ,  1.19869311,  2.39738622,  3.59607933,  4.79477244,\n",
       "         5.99346555,  7.19215866,  8.39085177,  9.58954487, 10.78823798,\n",
       "        11.98693109, 13.1856242 , 14.38431731, 15.58301042, 16.78170353,\n",
       "        17.98039664]),\n",
       " <BarContainer object of 15 artists>)"
      ]
     },
     "execution_count": 598,
     "metadata": {},
     "output_type": "execute_result"
    },
    {
     "data": {
      "image/png": "[encoded data removed]",
      "text/plain": [
       "<Figure size 432x288 with 1 Axes>"
      ]
     },
     "metadata": {
      "needs_background": "light"
     },
     "output_type": "display_data"
    }
   ],
   "source": [
    "plt.hist(df.time_in_queue, bins=15)"
   ]
  },
  {
   "cell_type": "markdown",
   "id": "2d98ec2d",
   "metadata": {},
   "source": [
    "__Looks like exponential distribution with the appropriate choice of bins. Slight dip around 10 minutes when using more bins__"
   ]
  },
  {
   "cell_type": "code",
   "execution_count": null,
   "id": "e09d730a",
   "metadata": {},
   "outputs": [],
   "source": []
  },
  {
   "cell_type": "markdown",
   "id": "f2c1944c",
   "metadata": {},
   "source": [
    "### Time in System"
   ]
  },
  {
   "cell_type": "code",
   "execution_count": 32,
   "id": "0a779ae1",
   "metadata": {
    "ExecuteTime": {
     "end_time": "2021-09-16T01:30:35.376210Z",
     "start_time": "2021-09-16T01:30:35.215208Z"
    }
   },
   "outputs": [
    {
     "data": {
      "text/plain": [
       "(array([24., 17., 14., 14., 16.,  9.,  6.]),\n",
       " array([ 0.13342723,  3.57426896,  7.01511069, 10.45595242, 13.89679415,\n",
       "        17.33763588, 20.77847761, 24.21931934]),\n",
       " <BarContainer object of 7 artists>)"
      ]
     },
     "execution_count": 32,
     "metadata": {},
     "output_type": "execute_result"
    },
    {
     "data": {
      "image/png": "[encoded data removed]",
      "text/plain": [
       "<Figure size 432x288 with 1 Axes>"
      ]
     },
     "metadata": {
      "needs_background": "light"
     },
     "output_type": "display_data"
    }
   ],
   "source": [
    "df['time_in_system'] =  df.service_ends - df.arrival_time\n",
    "df.time_in_system.mean()\n",
    "plt.hist(df.time_in_system, bins=7)"
   ]
  },
  {
   "cell_type": "code",
   "execution_count": 467,
   "id": "3e4975b2",
   "metadata": {
    "ExecuteTime": {
     "end_time": "2021-09-14T23:49:24.221300Z",
     "start_time": "2021-09-14T23:49:24.140866Z"
    }
   },
   "outputs": [
    {
     "data": {
      "text/html": [
       "<div>\n",
       "<style scoped>\n",
       "    .dataframe tbody tr th:only-of-type {\n",
       "        vertical-align: middle;\n",
       "    }\n",
       "\n",
       "    .dataframe tbody tr th {\n",
       "        vertical-align: top;\n",
       "    }\n",
       "\n",
       "    .dataframe thead th {\n",
       "        text-align: right;\n",
       "    }\n",
       "</style>\n",
       "<table border=\"1\" class=\"dataframe\">\n",
       "  <thead>\n",
       "    <tr style=\"text-align: right;\">\n",
       "      <th></th>\n",
       "      <th>arrival_time</th>\n",
       "      <th>queue_length</th>\n",
       "      <th>service_starts</th>\n",
       "      <th>service_ends</th>\n",
       "      <th>service_time</th>\n",
       "      <th>check_serv</th>\n",
       "      <th>bool_comp</th>\n",
       "      <th>time_in_queue</th>\n",
       "      <th>time_in_system</th>\n",
       "    </tr>\n",
       "  </thead>\n",
       "  <tbody>\n",
       "    <tr>\n",
       "      <th>0</th>\n",
       "      <td>0.414387</td>\n",
       "      <td>1</td>\n",
       "      <td>0.414387</td>\n",
       "      <td>0.967820</td>\n",
       "      <td>0.553434</td>\n",
       "      <td>0.553434</td>\n",
       "      <td>True</td>\n",
       "      <td>0.000000</td>\n",
       "      <td>0.553434</td>\n",
       "    </tr>\n",
       "    <tr>\n",
       "      <th>1</th>\n",
       "      <td>2.148780</td>\n",
       "      <td>1</td>\n",
       "      <td>2.148780</td>\n",
       "      <td>2.785299</td>\n",
       "      <td>0.636519</td>\n",
       "      <td>0.636519</td>\n",
       "      <td>True</td>\n",
       "      <td>0.000000</td>\n",
       "      <td>0.636519</td>\n",
       "    </tr>\n",
       "    <tr>\n",
       "      <th>2</th>\n",
       "      <td>5.041348</td>\n",
       "      <td>1</td>\n",
       "      <td>5.041348</td>\n",
       "      <td>5.637895</td>\n",
       "      <td>0.596547</td>\n",
       "      <td>0.596547</td>\n",
       "      <td>True</td>\n",
       "      <td>0.000000</td>\n",
       "      <td>0.596547</td>\n",
       "    </tr>\n",
       "    <tr>\n",
       "      <th>3</th>\n",
       "      <td>5.674938</td>\n",
       "      <td>1</td>\n",
       "      <td>5.674938</td>\n",
       "      <td>6.322337</td>\n",
       "      <td>0.647399</td>\n",
       "      <td>0.647399</td>\n",
       "      <td>True</td>\n",
       "      <td>0.000000</td>\n",
       "      <td>0.647399</td>\n",
       "    </tr>\n",
       "    <tr>\n",
       "      <th>4</th>\n",
       "      <td>9.607042</td>\n",
       "      <td>1</td>\n",
       "      <td>9.607042</td>\n",
       "      <td>9.609068</td>\n",
       "      <td>0.002026</td>\n",
       "      <td>0.002026</td>\n",
       "      <td>True</td>\n",
       "      <td>0.000000</td>\n",
       "      <td>0.002026</td>\n",
       "    </tr>\n",
       "    <tr>\n",
       "      <th>...</th>\n",
       "      <td>...</td>\n",
       "      <td>...</td>\n",
       "      <td>...</td>\n",
       "      <td>...</td>\n",
       "      <td>...</td>\n",
       "      <td>...</td>\n",
       "      <td>...</td>\n",
       "      <td>...</td>\n",
       "      <td>...</td>\n",
       "    </tr>\n",
       "    <tr>\n",
       "      <th>95</th>\n",
       "      <td>174.924214</td>\n",
       "      <td>2</td>\n",
       "      <td>176.278931</td>\n",
       "      <td>176.591577</td>\n",
       "      <td>0.312646</td>\n",
       "      <td>0.312646</td>\n",
       "      <td>True</td>\n",
       "      <td>1.354717</td>\n",
       "      <td>1.667363</td>\n",
       "    </tr>\n",
       "    <tr>\n",
       "      <th>96</th>\n",
       "      <td>175.673116</td>\n",
       "      <td>3</td>\n",
       "      <td>176.591577</td>\n",
       "      <td>177.456022</td>\n",
       "      <td>0.864445</td>\n",
       "      <td>0.864445</td>\n",
       "      <td>True</td>\n",
       "      <td>0.918461</td>\n",
       "      <td>1.782906</td>\n",
       "    </tr>\n",
       "    <tr>\n",
       "      <th>97</th>\n",
       "      <td>176.047760</td>\n",
       "      <td>4</td>\n",
       "      <td>177.456022</td>\n",
       "      <td>178.490471</td>\n",
       "      <td>1.034450</td>\n",
       "      <td>1.034450</td>\n",
       "      <td>True</td>\n",
       "      <td>1.408262</td>\n",
       "      <td>2.442711</td>\n",
       "    </tr>\n",
       "    <tr>\n",
       "      <th>98</th>\n",
       "      <td>180.810135</td>\n",
       "      <td>1</td>\n",
       "      <td>180.810135</td>\n",
       "      <td>182.298041</td>\n",
       "      <td>1.487905</td>\n",
       "      <td>1.487905</td>\n",
       "      <td>True</td>\n",
       "      <td>0.000000</td>\n",
       "      <td>1.487905</td>\n",
       "    </tr>\n",
       "    <tr>\n",
       "      <th>99</th>\n",
       "      <td>182.886945</td>\n",
       "      <td>1</td>\n",
       "      <td>182.886945</td>\n",
       "      <td>183.921163</td>\n",
       "      <td>1.034218</td>\n",
       "      <td>1.034218</td>\n",
       "      <td>True</td>\n",
       "      <td>0.000000</td>\n",
       "      <td>1.034218</td>\n",
       "    </tr>\n",
       "  </tbody>\n",
       "</table>\n",
       "<p>100 rows × 9 columns</p>\n",
       "</div>"
      ],
      "text/plain": [
       "    arrival_time  queue_length  service_starts  service_ends  service_time  \\\n",
       "0       0.414387             1        0.414387      0.967820      0.553434   \n",
       "1       2.148780             1        2.148780      2.785299      0.636519   \n",
       "2       5.041348             1        5.041348      5.637895      0.596547   \n",
       "3       5.674938             1        5.674938      6.322337      0.647399   \n",
       "4       9.607042             1        9.607042      9.609068      0.002026   \n",
       "..           ...           ...             ...           ...           ...   \n",
       "95    174.924214             2      176.278931    176.591577      0.312646   \n",
       "96    175.673116             3      176.591577    177.456022      0.864445   \n",
       "97    176.047760             4      177.456022    178.490471      1.034450   \n",
       "98    180.810135             1      180.810135    182.298041      1.487905   \n",
       "99    182.886945             1      182.886945    183.921163      1.034218   \n",
       "\n",
       "    check_serv  bool_comp  time_in_queue  time_in_system  \n",
       "0     0.553434       True       0.000000        0.553434  \n",
       "1     0.636519       True       0.000000        0.636519  \n",
       "2     0.596547       True       0.000000        0.596547  \n",
       "3     0.647399       True       0.000000        0.647399  \n",
       "4     0.002026       True       0.000000        0.002026  \n",
       "..         ...        ...            ...             ...  \n",
       "95    0.312646       True       1.354717        1.667363  \n",
       "96    0.864445       True       0.918461        1.782906  \n",
       "97    1.034450       True       1.408262        2.442711  \n",
       "98    1.487905       True       0.000000        1.487905  \n",
       "99    1.034218       True       0.000000        1.034218  \n",
       "\n",
       "[100 rows x 9 columns]"
      ]
     },
     "execution_count": 467,
     "metadata": {},
     "output_type": "execute_result"
    }
   ],
   "source": [
    "df"
   ]
  },
  {
   "cell_type": "code",
   "execution_count": null,
   "id": "b5a6977c",
   "metadata": {},
   "outputs": [],
   "source": [
    "sm.qqplot(resid) #normal distribution\n",
    "plt.show()"
   ]
  },
  {
   "cell_type": "markdown",
   "id": "7ddfbc31",
   "metadata": {},
   "source": [
    "# References\n",
    "We report here relevant references:\n",
    "1. author1, article1, journal1, year1, url1\n",
    "2. author2, article2, journal2, year2, url2"
   ]
  },
  {
   "cell_type": "code",
   "execution_count": null,
   "id": "26ddd4fe",
   "metadata": {},
   "outputs": [],
   "source": []
  },
  {
   "cell_type": "code",
   "execution_count": null,
   "id": "fb8844da",
   "metadata": {},
   "outputs": [],
   "source": []
  }
 ],
 "metadata": {
  "kernelspec": {
   "display_name": "Python 3",
   "language": "python",
   "name": "python3"
  },
  "language_info": {
   "codemirror_mode": {
    "name": "ipython",
    "version": 3
   },
   "file_extension": ".py",
   "mimetype": "text/x-python",
   "name": "python",
   "nbconvert_exporter": "python",
   "pygments_lexer": "ipython3",
   "version": "3.7.10"
  },
  "latex_envs": {
   "LaTeX_envs_menu_present": true,
   "autoclose": false,
   "autocomplete": true,
   "bibliofile": "biblio.bib",
   "cite_by": "apalike",
   "current_citInitial": 1,
   "eqLabelWithNumbers": true,
   "eqNumInitial": 1,
   "hotkeys": {
    "equation": "Ctrl-E",
    "itemize": "Ctrl-I"
   },
   "labels_anchors": false,
   "latex_user_defs": false,
   "report_style_numbering": false,
   "user_envs_cfg": false
  },
  "toc": {
   "base_numbering": 1,
   "nav_menu": {},
   "number_sections": true,
   "sideBar": true,
   "skip_h1_title": false,
   "title_cell": "Table of Contents",
   "title_sidebar": "Contents",
   "toc_cell": true,
   "toc_position": {},
   "toc_section_display": true,
   "toc_window_display": false
  },
  "varInspector": {
   "cols": {
    "lenName": 16,
    "lenType": 16,
    "lenVar": 40
   },
   "kernels_config": {
    "python": {
     "delete_cmd_postfix": "",
     "delete_cmd_prefix": "del ",
     "library": "var_list.py",
     "varRefreshCmd": "print(var_dic_list())"
    },
    "r": {
     "delete_cmd_postfix": ") ",
     "delete_cmd_prefix": "rm(",
     "library": "var_list.r",
     "varRefreshCmd": "cat(var_dic_list()) "
    }
   },
   "types_to_exclude": [
    "module",
    "function",
    "builtin_function_or_method",
    "instance",
    "_Feature"
   ],
   "window_display": false
  }
 },
 "nbformat": 4,
 "nbformat_minor": 5
}
