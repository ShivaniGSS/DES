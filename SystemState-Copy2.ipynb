{
 "cells": [
  {
   "cell_type": "markdown",
   "id": "1d944d7c",
   "metadata": {
    "toc": true
   },
   "source": [
    "<h1>Table of Contents<span class=\"tocSkip\"></span></h1>\n",
    "<div class=\"toc\"><ul class=\"toc-item\"></ul></div>"
   ]
  },
  {
   "cell_type": "code",
   "execution_count": 1,
   "id": "e8e8f4ad",
   "metadata": {
    "ExecuteTime": {
     "end_time": "2022-04-01T14:36:34.793842Z",
     "start_time": "2022-04-01T14:36:34.602827Z"
    }
   },
   "outputs": [],
   "source": [
    "import random\n",
    "import datetime\n",
    "import numpy as np\n",
    "import pandas as pd"
   ]
  },
  {
   "cell_type": "code",
   "execution_count": 2,
   "id": "ecd88c8c",
   "metadata": {
    "ExecuteTime": {
     "end_time": "2022-04-01T14:36:44.797485Z",
     "start_time": "2022-04-01T14:36:35.135171Z"
    }
   },
   "outputs": [],
   "source": [
    "class G:\n",
    "    ITERATIONS = 100\n",
    "    DURATIONS = 6120\n",
    "    fac_id_df = pd.read_excel(\"data/FacilityIDLookup.xlsx\")\n",
    "    priv_df = pd.read_excel(\"data/Privileges.xlsx\")\n",
    "    proc_id_df = pd.read_excel(\"data/ProcedureIDLookup.xlsx\")\n",
    "    rad_sched_df = pd.read_excel(\"data/RadiologistSchedules.xlsx\")\n",
    "    restr_df = pd.read_excel(\"data/Restrictions.xlsx\")"
   ]
  },
  {
   "cell_type": "code",
   "execution_count": 3,
   "id": "cfa2d517",
   "metadata": {
    "ExecuteTime": {
     "end_time": "2022-04-01T14:36:44.844500Z",
     "start_time": "2022-04-01T14:36:44.829486Z"
    }
   },
   "outputs": [],
   "source": [
    "def process_data():\n",
    "    G.rads_list = sorted(G.rad_sched_df[\"RadiologistID\"].unique())\n",
    "    rads_in_priv = sorted(G.priv_df[\"RadiologistID\"].unique())\n",
    "    red_priv_df = G.priv_df[G.priv_df[\"RadiologistID\"].isin(G.rads_list)]\n",
    "    G.radiologist_ids = list(set(rads_in_priv).intersection(set(G.rads_list)))\n",
    "    G.red_rad_sched_df = G.rad_sched_df[G.rad_sched_df[\"RadiologistID\"].isin(G.radiologist_ids)]\n",
    "    G.facilities = sorted(red_priv_df[\"FacilityID\"].unique())\n",
    "    G.procedures_list = sorted(G.proc_id_df[\"ProcedureID\"].unique())\n",
    "    G.modalities = list(G.proc_id_df.Modality.unique())\n",
    "    start_time = G.rad_sched_df[\"Start Time\"][0]\n",
    "    G.rad_sched_df['Relative Start Time'] = (G.rad_sched_df[\"Start Time\"] - start_time)/np.timedelta64(1, 's')/60\n",
    "    G.rad_sched_df['Relative End Time'] = (G.rad_sched_df[\"End Time\"] - start_time)/np.timedelta64(1, 's')/60\n",
    "    G.radiologists_by_fac = G.priv_df.groupby(\"FacilityID\")[\"RadiologistID\"].apply(list).reset_index(name='Radiologists').set_index(\"FacilityID\")\n",
    "    G.facilities_by_rad = G.priv_df.groupby(\"RadiologistID\")[\"FacilityID\"].apply(list).reset_index(name='Facilities').set_index(\"RadiologistID\")"
   ]
  },
  {
   "cell_type": "code",
   "execution_count": 4,
   "id": "cda022c9",
   "metadata": {
    "ExecuteTime": {
     "end_time": "2022-04-01T14:36:44.987563Z",
     "start_time": "2022-04-01T14:36:44.877558Z"
    }
   },
   "outputs": [],
   "source": [
    "process_data()"
   ]
  },
  {
   "cell_type": "code",
   "execution_count": 82,
   "id": "fb79382a",
   "metadata": {
    "ExecuteTime": {
     "end_time": "2022-04-01T17:14:30.116015Z",
     "start_time": "2022-04-01T17:14:30.101016Z"
    }
   },
   "outputs": [],
   "source": [
    "G.target_times = {\n",
    "    1: 10,\n",
    "    2: 20,\n",
    "    3: 60\n",
    "}\n",
    "\n",
    "G.specialties = {\n",
    "    1: '1',\n",
    "    2: '2',\n",
    "    3: '3',\n",
    "    4: '4',\n",
    "    5: '5'\n",
    "}\n",
    "\n",
    "G.process_times = {\n",
    "    1: 2,\n",
    "    2: 3,\n",
    "    3: 5\n",
    "}"
   ]
  },
  {
   "cell_type": "code",
   "execution_count": 110,
   "id": "bf68ed2a",
   "metadata": {
    "ExecuteTime": {
     "end_time": "2022-04-01T17:34:52.104753Z",
     "start_time": "2022-04-01T17:34:52.016756Z"
    }
   },
   "outputs": [],
   "source": [
    "class MedicalImage(object):    \n",
    "    def __init__(self, img_id, time_created, urgency, image_type):#, modality, speciality, urgency, image_label):\n",
    "        self.img_id = img_id\n",
    "        self.time_created = time_created\n",
    "        self.urgency = urgency\n",
    "        self.image_type = image_type\n",
    "        self.target_time = G.target_times[urgency]\n",
    "        self.time_remaining = G.target_times[urgency]\n",
    "        self.est_process_time = G.process_times[urgency]\n",
    "        self.in_queues = []   #keep track on which queues image is in [rad_id, position]\n",
    "        self.time_seen = 0\n",
    "        self.time_done = 0\n",
    "        self.rad_seen = \"None\"\n",
    "        \n",
    "    def update_time_remaining(self, t):\n",
    "        self.time_remaining = self.target_time - (t - self.time_created)\n",
    "        \n",
    "        \n",
    "class Radiologist:\n",
    "    def __init__(self, rad_id, specialties, working=True):\n",
    "        self.queue = []\n",
    "        self.queue_data = []#[med_image, image_id, image_urgency, time_left, est_time]\n",
    "        self.rad_id = rad_id\n",
    "        self.specialties = specialties\n",
    "        self.is_working = working\n",
    "        self.images_served = []\n",
    "        self.idle_times = []\n",
    "        self.time_of_last_idle = 0\n",
    "        self.time_last_not_idle = 0\n",
    "        self.busy_times = []\n",
    "        self.time = 0\n",
    "        self.time_of_step = 0\n",
    "        self.queue_length = []\n",
    "        self.service_starts = []\n",
    "        self.service_ends = []\n",
    "        self.service_time = []        \n",
    "        \n",
    "    def get_stats(self):\n",
    "        return self.idle_times, self.busy_times, self.queue_length, self.service_starts, self.service_ends, self.service_time \n",
    "        \n",
    "    def show_queue(self):\n",
    "        return self.queue_data\n",
    "    \n",
    "    def add_job(self, med_image, time):\n",
    "        self.queue.append(med_image)    #each customer is represented by the time it will take for them to be served\n",
    "        self.queue_data.append([med_image, med_image.img_id, med_image.urgency, med_image.time_remaining, med_image.est_process_time, med_image.est_process_time]) #[image_id, image_urgency, time_left, est_time]\n",
    "        #print(self.show_queue())\n",
    "        \n",
    "    def update_queue(self, time):\n",
    "        for img in self.queue:\n",
    "            img.update_time_remaining(time)\n",
    "        #sort_queue()        \n",
    "    #def sort_queue(self):\n",
    "    \n",
    "    def update_queue_data(self, time):\n",
    "        est_time_to_complete = 0\n",
    "        for row in self.queue_data:\n",
    "            est_time_to_complete += row[4]\n",
    "            row[3] = row[0].time_remaining\n",
    "            row[5] = est_time_to_complete\n",
    "        \n",
    "               \n",
    "    def update(self, time, add_cust_bool=False):\n",
    "        self.time_of_step =  time - self.time\n",
    "        self.update_queue(time)\n",
    "        if add_cust_bool:\n",
    "            self.add_customer(time)\n",
    "        self.show_queue()\n",
    "        self.queue_length.append(len(self.queue.elements))\n",
    "        self.time = time      \n",
    "        \n",
    "        \n",
    "class SystemState:\n",
    "    def __init__(self, events, images, rads):\n",
    "        self.time = 0\n",
    "        self.events = events\n",
    "        self.images = images\n",
    "        self.rads = rads\n",
    "        self.rads_working = rads\n",
    "        self.rads_not_working = []\n",
    "        self.events_history = []\n",
    "        self.queue_lengths = []\n",
    "        self.time_steps = []\n",
    "        self.event_counter = 0\n",
    "        \n",
    "    def create_event(self, time, event_type, obj):\n",
    "        self.events.append([time, event_type, obj])\n",
    "        self.events = sorted(self.events, key=lambda x: x[0])\n",
    "        \n",
    "    def system_update(self):\n",
    "        for rad in self.rads_working:\n",
    "            rad.update_queue(self.time)\n",
    "        \n",
    "    def process_event(self):\n",
    "        self.event_counter+=1\n",
    "        event = self.events[0]\n",
    "        self.events_history.append(event)\n",
    "        self.time = event[0]       \n",
    "        event_type = event[1]\n",
    "        del self.events[0]\n",
    "        temp_list = []\n",
    "        for r in self.rads:\n",
    "            temp_list.append(len(r.queue))\n",
    "        self.queue_lengths.append(temp_list)\n",
    "        self.time_steps.append(self.time)\n",
    "            \n",
    "        if event_type == \"New Job\":\n",
    "            self.distribute_job(event[2])\n",
    "        elif event_type == \"Job Done\":\n",
    "            rad = event[2]\n",
    "            self.complete_job(rad)\n",
    "        print(\"Event processed\")\n",
    "        \n",
    "        self.system_update()\n",
    "        \n",
    "        if self.event_counter == 30:\n",
    "            print(\"Stopped at 30\")\n",
    "        elif len(self.events) > 0:\n",
    "            self.process_event()\n",
    "        else:\n",
    "            print(\"Simulation complete\")\n",
    "                \n",
    "    def distribute_job(self, med_image):\n",
    "        urgency = med_image.urgency\n",
    "        image_type = med_image.image_type\n",
    "        capable_rads = []\n",
    "        for rad in self.rads_working:      #finds radiologists capable of working on image\n",
    "            if image_type in rad.specialties:\n",
    "                capable_rads.append(rad)\n",
    "        for rad in capable_rads:\n",
    "            rad.add_job(med_image, self.time)\n",
    "            med_image.in_queues.append(rad)    #keep track of which rads have image in queue\n",
    "            if len(rad.queue)==1:\n",
    "                self.start_job(rad)\n",
    "                break         \n",
    "        self.update_queues() \n",
    "        \n",
    "    def update_queues(self):\n",
    "        for rad in self.rads_working:\n",
    "            rad.update_queue(self.time)\n",
    "            rad.update_queue_data(self.time)\n",
    "                \n",
    "    def start_job(self, rad):\n",
    "        med_image = rad.queue[0]\n",
    "        image_type = med_image.image_type\n",
    "        urgency = med_image.urgency\n",
    "        rad.service_starts = self.time\n",
    "        med_image.time_seen = self.time\n",
    "        med_image.rad_seen = rad.rad_id\n",
    "        self.events_history.append([self.time, \"Job Started\", med_image])\n",
    "        process_time = np.random.exponential(G.process_times[urgency])\n",
    "        self.create_event(self.time+process_time, \"Job Done\", rad)\n",
    "        print(f\"Image {med_image.img_id} is seen by radiologist {rad.rad_id} at {self.time}\")\n",
    "        for r in med_image.in_queues:\n",
    "            if r != rad:\n",
    "                r.queue.remove(med_image)           \n",
    "        \n",
    "    def complete_job(self, rad):\n",
    "        med_image = rad.queue[0]\n",
    "        rad.images_served.append(med_image.img_id)\n",
    "        rad.service_ends.append(self.time)\n",
    "        med_image.time_done = self.time\n",
    "        print(f\"Image {med_image.img_id} is done by radiologist {rad.rad_id} at {self.time}\")\n",
    "        del rad.queue[0]\n",
    "        del rad.queue_data[0]\n",
    "        self.update_queues()\n",
    "        if len(rad.queue) > 0:\n",
    "            self.start_job(rad)\n",
    "        \n",
    "    def run_simulation(self):\n",
    "        self.process_event()\n",
    "        \n",
    "\n",
    "def sim(duration, image_freq, num_rads):\n",
    "    arrival_times = []\n",
    "    time = 0\n",
    "    while time < duration*60 :\n",
    "        time += np.random.exponential(image_freq)\n",
    "        arrival_times.append(time)        \n",
    "    med_images = []\n",
    "    for i, t in enumerate(arrival_times):\n",
    "        med_images.append(MedicalImage(i, t, random.sample(list(G.target_times.keys()), 1)[0], random.sample(list(G.specialties.keys()), 1)[0]))       \n",
    "    radiologists = []\n",
    "    for i in range(num_rads):\n",
    "        specialties_temp = random.sample(list(G.specialties.keys()), random.randrange(2,6))\n",
    "        radiologists.append(Radiologist(i, specialties_temp))       \n",
    "    events=[]\n",
    "    for img in med_images:\n",
    "        events.append([img.time_created, 'New Job', img])        \n",
    "    s = SystemState(events, med_images, radiologists)\n",
    "    s.run_simulation()    \n",
    "    return s\n",
    "\n",
    "\n",
    "def plot_queue_lengths(s):\n",
    "    fig, ax = plt.subplots()\n",
    "    for i in range(len(s.queue_lengths[0])):\n",
    "        plt.plot(s.time_steps, [item[i] for item in s.queue_lengths])\n",
    "        \n",
    "        \n",
    "def plt_mean_queue_length(s_list):\n",
    "    fig, ax = plt.subplots()\n",
    "    for s in s_list:\n",
    "        plt.plot(s.time_steps, pd.DataFrame(s.queue_lengths).sum(axis=1), label=f\"{len(s.rads)}\")\n",
    "    plt.xlabel(\"time\")\n",
    "    plt.ylabel(\"Mean Queue Length\")\n",
    "    plt.legend()\n",
    "    plt.show()"
   ]
  },
  {
   "cell_type": "code",
   "execution_count": 111,
   "id": "3e120fab",
   "metadata": {
    "ExecuteTime": {
     "end_time": "2022-04-01T17:34:52.720034Z",
     "start_time": "2022-04-01T17:34:52.708033Z"
    }
   },
   "outputs": [
    {
     "name": "stdout",
     "output_type": "stream",
     "text": [
      "Image 0 is seen by radiologist 0 at 2.482469722193538\n",
      "Event processed\n",
      "Image 1 is seen by radiologist 2 at 3.2213545657681304\n",
      "Event processed\n",
      "Image 2 is seen by radiologist 3 at 3.2772977283114697\n",
      "Event processed\n",
      "Image 2 is done by radiologist 3 at 3.6785240969703885\n",
      "Event processed\n",
      "Image 3 is seen by radiologist 3 at 3.83777255293945\n",
      "Event processed\n",
      "Image 0 is done by radiologist 0 at 4.800492899249901\n",
      "Event processed\n",
      "Image 4 is seen by radiologist 0 at 5.759444701982809\n",
      "Event processed\n",
      "Event processed\n",
      "Image 3 is done by radiologist 3 at 6.4161169678385965\n",
      "Image 5 is seen by radiologist 3 at 6.4161169678385965\n",
      "Event processed\n",
      "Image 5 is done by radiologist 3 at 6.87595646537658\n",
      "Event processed\n",
      "Image 6 is seen by radiologist 3 at 6.935528189589635\n",
      "Event processed\n",
      "Image 6 is done by radiologist 3 at 7.76608042350509\n",
      "Event processed\n",
      "Image 7 is seen by radiologist 1 at 8.780123236960883\n",
      "Event processed\n",
      "Image 1 is done by radiologist 2 at 10.787612995603109\n",
      "Event processed\n",
      "Image 8 is seen by radiologist 2 at 10.828465418642274\n",
      "Event processed\n",
      "Image 7 is done by radiologist 1 at 11.991264766850591\n",
      "Event processed\n",
      "Image 8 is done by radiologist 2 at 13.15743164291981\n",
      "Event processed\n",
      "Image 9 is seen by radiologist 1 at 13.76612915928386\n",
      "Event processed\n",
      "Image 10 is seen by radiologist 2 at 14.073481855040672\n",
      "Event processed\n",
      "Image 10 is done by radiologist 2 at 14.083474054968814\n",
      "Event processed\n",
      "Image 4 is done by radiologist 0 at 14.440921317896965\n",
      "Event processed\n",
      "Image 11 is seen by radiologist 0 at 14.992221055231136\n",
      "Event processed\n",
      "Image 12 is seen by radiologist 2 at 15.047727907269385\n",
      "Event processed\n",
      "Image 13 is seen by radiologist 3 at 15.237872342169451\n",
      "Event processed\n",
      "Event processed\n",
      "Image 9 is done by radiologist 1 at 16.268068955112874\n",
      "Event processed\n",
      "Image 11 is done by radiologist 0 at 16.5117006389318\n",
      "Image 14 is seen by radiologist 0 at 16.5117006389318\n",
      "Event processed\n",
      "Image 15 is seen by radiologist 1 at 16.722631964711372\n",
      "Event processed\n",
      "Image 12 is done by radiologist 2 at 17.05630553709559\n",
      "Event processed\n",
      "Image 16 is seen by radiologist 2 at 17.17426995817295\n",
      "Event processed\n",
      "Stopped at 30\n"
     ]
    }
   ],
   "source": [
    "s1 = sim(3, 1, 4)"
   ]
  },
  {
   "cell_type": "code",
   "execution_count": 112,
   "id": "e6d8e4d0",
   "metadata": {
    "ExecuteTime": {
     "end_time": "2022-04-01T17:34:58.931404Z",
     "start_time": "2022-04-01T17:34:58.822374Z"
    }
   },
   "outputs": [
    {
     "data": {
      "application/javascript": [
       "\n",
       "        if (window._pyforest_update_imports_cell) { window._pyforest_update_imports_cell('import matplotlib.pyplot as plt'); }\n",
       "    "
      ],
      "text/plain": [
       "<IPython.core.display.Javascript object>"
      ]
     },
     "metadata": {},
     "output_type": "display_data"
    },
    {
     "data": {
      "application/javascript": [
       "\n",
       "        if (window._pyforest_update_imports_cell) { window._pyforest_update_imports_cell('import matplotlib.pyplot as plt'); }\n",
       "    "
      ],
      "text/plain": [
       "<IPython.core.display.Javascript object>"
      ]
     },
     "metadata": {},
     "output_type": "display_data"
    },
    {
     "data": {
      "application/javascript": [
       "\n",
       "        if (window._pyforest_update_imports_cell) { window._pyforest_update_imports_cell('import matplotlib.pyplot as plt'); }\n",
       "    "
      ],
      "text/plain": [
       "<IPython.core.display.Javascript object>"
      ]
     },
     "metadata": {},
     "output_type": "display_data"
    },
    {
     "data": {
      "application/javascript": [
       "\n",
       "        if (window._pyforest_update_imports_cell) { window._pyforest_update_imports_cell('import matplotlib.pyplot as plt'); }\n",
       "    "
      ],
      "text/plain": [
       "<IPython.core.display.Javascript object>"
      ]
     },
     "metadata": {},
     "output_type": "display_data"
    },
    {
     "data": {
      "application/javascript": [
       "\n",
       "        if (window._pyforest_update_imports_cell) { window._pyforest_update_imports_cell('import matplotlib.pyplot as plt'); }\n",
       "    "
      ],
      "text/plain": [
       "<IPython.core.display.Javascript object>"
      ]
     },
     "metadata": {},
     "output_type": "display_data"
    },
    {
     "data": {
      "image/png": "[encoded data removed]",
      "text/plain": [
       "<Figure size 432x288 with 1 Axes>"
      ]
     },
     "metadata": {
      "needs_background": "light"
     },
     "output_type": "display_data"
    }
   ],
   "source": [
    "plot_queue_lengths(s1)"
   ]
  },
  {
   "cell_type": "code",
   "execution_count": 55,
   "id": "76f1de38",
   "metadata": {
    "ExecuteTime": {
     "end_time": "2022-04-01T16:55:10.563103Z",
     "start_time": "2022-04-01T16:55:10.496771Z"
    }
   },
   "outputs": [
    {
     "name": "stdout",
     "output_type": "stream",
     "text": [
      "Image 0 is seen by radiologist 1 at 6.939910295588985\n",
      "Event processed\n",
      "Image 1 is seen by radiologist 3 at 25.59174710811977\n",
      "Event processed\n",
      "Image 1 is done by radiologist 3 at 30.962406634859946\n",
      "Event processed\n",
      "Image 2 is seen by radiologist 0 at 37.33832085503806\n",
      "Event processed\n",
      "Image 0 is done by radiologist 1 at 48.54987254933238\n",
      "Event processed\n",
      "Image 3 is seen by radiologist 1 at 48.90642449333433\n",
      "Event processed\n",
      "Image 2 is done by radiologist 0 at 55.840931649972816\n",
      "Event processed\n",
      "Image 4 is seen by radiologist 0 at 56.525849664944026\n",
      "Event processed\n",
      "Image 4 is done by radiologist 0 at 56.853367707053025\n",
      "Event processed\n",
      "Image 5 is seen by radiologist 2 at 66.17251267672306\n",
      "Event processed\n",
      "Image 6 is seen by radiologist 3 at 69.15358138289264\n",
      "Event processed\n",
      "Image 7 is seen by radiologist 0 at 72.49553786078646\n",
      "Event processed\n",
      "Image 3 is done by radiologist 1 at 73.34204395247622\n",
      "Event processed\n",
      "Image 6 is done by radiologist 3 at 73.76138424368526\n",
      "Event processed\n",
      "Image 8 is seen by radiologist 1 at 79.77965991986028\n",
      "Event processed\n",
      "Image 7 is done by radiologist 0 at 81.66331410181759\n",
      "Event processed\n",
      "Image 9 is seen by radiologist 0 at 91.82057572611585\n",
      "Event processed\n",
      "Image 8 is done by radiologist 1 at 92.97583588488943\n",
      "Event processed\n",
      "Image 10 is seen by radiologist 1 at 97.30839247815605\n",
      "Event processed\n",
      "Image 11 is seen by radiologist 3 at 101.29681780723182\n",
      "Event processed\n",
      "Image 12 is seen by radiologist 4 at 111.94549182075194\n",
      "Event processed\n",
      "Event processed\n",
      "Event processed\n",
      "Event processed\n",
      "Event processed\n",
      "Image 10 is done by radiologist 1 at 130.71214463662346\n",
      "Image 13 is seen by radiologist 1 at 130.71214463662346\n",
      "Event processed\n",
      "Image 5 is done by radiologist 2 at 131.63814343729527\n",
      "Image 14 is seen by radiologist 2 at 131.63814343729527\n",
      "Event processed\n",
      "Event processed\n",
      "Event processed\n",
      "Image 14 is done by radiologist 2 at 142.5909139237186\n",
      "Image 17 is seen by radiologist 2 at 142.5909139237186\n",
      "Event processed\n",
      "Stopped at 30\n",
      "Image 0 is seen by radiologist 2 at 10.174386842426156\n",
      "Event processed\n",
      "Image 0 is done by radiologist 2 at 10.927760156844228\n",
      "Event processed\n",
      "Image 1 is seen by radiologist 0 at 17.119444172337545\n",
      "Event processed\n",
      "Image 1 is done by radiologist 0 at 21.280547037024743\n",
      "Event processed\n",
      "Image 2 is seen by radiologist 0 at 26.811631643125082\n",
      "Event processed\n",
      "Image 2 is done by radiologist 0 at 32.48470530446017\n",
      "Event processed\n",
      "Image 3 is seen by radiologist 0 at 34.176770229524706\n",
      "Event processed\n",
      "Image 4 is seen by radiologist 1 at 35.723283488745054\n",
      "Event processed\n",
      "Image 5 is seen by radiologist 5 at 41.4879820627256\n",
      "Event processed\n",
      "Event processed\n",
      "Image 7 is seen by radiologist 2 at 52.15296778026302\n",
      "Event processed\n",
      "Event processed\n",
      "Image 3 is done by radiologist 0 at 60.53191030795347\n",
      "Image 6 is seen by radiologist 0 at 60.53191030795347\n",
      "Event processed\n",
      "Image 9 is seen by radiologist 3 at 79.7092338822146\n",
      "Event processed\n",
      "Image 10 is seen by radiologist 4 at 82.67614322175407\n",
      "Event processed\n",
      "Image 10 is done by radiologist 4 at 86.60957249213908\n",
      "Event processed\n",
      "Image 5 is done by radiologist 5 at 92.38472031910686\n",
      "Image 8 is seen by radiologist 5 at 92.38472031910686\n",
      "Event processed\n",
      "Image 11 is seen by radiologist 4 at 93.61844100694279\n",
      "Event processed\n",
      "Event processed\n",
      "Image 9 is done by radiologist 3 at 102.15449119652126\n",
      "Image 12 is seen by radiologist 3 at 102.15449119652126\n",
      "Event processed\n",
      "Image 4 is done by radiologist 1 at 102.24004030126353\n",
      "Event processed\n",
      "Image 8 is done by radiologist 5 at 104.0357412526817\n",
      "Event processed\n",
      "Image 7 is done by radiologist 2 at 105.70907986207398\n",
      "Event processed\n",
      "Image 11 is done by radiologist 4 at 106.87690294901081\n",
      "Event processed\n",
      "Image 13 is seen by radiologist 4 at 111.15497466346322\n",
      "Event processed\n",
      "Image 14 is seen by radiologist 1 at 119.84351536547571\n",
      "Event processed\n",
      "Image 15 is seen by radiologist 5 at 122.65257055893751\n",
      "Event processed\n",
      "Image 13 is done by radiologist 4 at 123.4467665516462\n",
      "Event processed\n",
      "Image 16 is seen by radiologist 2 at 144.6778856860867\n",
      "Event processed\n",
      "Image 17 is seen by radiologist 4 at 150.78682839552255\n",
      "Event processed\n",
      "Stopped at 30\n",
      "Image 0 is seen by radiologist 1 at 22.609118175731794\n",
      "Event processed\n",
      "Image 1 is seen by radiologist 0 at 31.618557838894844\n",
      "Event processed\n",
      "Image 2 is seen by radiologist 2 at 40.01270205449995\n",
      "Event processed\n",
      "Image 0 is done by radiologist 1 at 42.394445121561205\n",
      "Event processed\n",
      "Image 3 is seen by radiologist 1 at 42.43298531582458\n",
      "Event processed\n",
      "Image 4 is seen by radiologist 3 at 51.33523329301019\n",
      "Event processed\n",
      "Image 5 is seen by radiologist 4 at 53.33691736093876\n",
      "Event processed\n",
      "Image 2 is done by radiologist 2 at 57.22475472157522\n",
      "Event processed\n",
      "Image 3 is done by radiologist 1 at 61.17070470796989\n",
      "Event processed\n",
      "Image 6 is seen by radiologist 1 at 67.03924010418615\n",
      "Event processed\n",
      "Image 7 is seen by radiologist 2 at 67.15796099517992\n",
      "Event processed\n",
      "Image 6 is done by radiologist 1 at 67.7534799847421\n",
      "Event processed\n",
      "Image 7 is done by radiologist 2 at 70.37473980136153\n",
      "Event processed\n",
      "Image 8 is seen by radiologist 1 at 70.52474751788914\n",
      "Event processed\n",
      "Image 9 is seen by radiologist 2 at 73.6927628825281\n",
      "Event processed\n",
      "Image 10 is seen by radiologist 5 at 78.61695776828176\n",
      "Event processed\n",
      "Image 9 is done by radiologist 2 at 80.12276015823389\n",
      "Event processed\n",
      "Image 11 is seen by radiologist 2 at 85.40700027159808\n",
      "Event processed\n",
      "Image 12 is seen by radiologist 6 at 97.54124831230196\n",
      "Event processed\n",
      "Event processed\n",
      "Event processed\n",
      "Event processed\n",
      "Image 4 is done by radiologist 3 at 111.1679428606646\n",
      "Event processed\n",
      "Event processed\n",
      "Image 11 is done by radiologist 2 at 121.58850143440857\n",
      "Image 13 is seen by radiologist 2 at 121.58850143440857\n",
      "Event processed\n",
      "Image 13 is done by radiologist 2 at 130.67352299121902\n",
      "Image 14 is seen by radiologist 2 at 130.67352299121902\n",
      "Event processed\n",
      "Image 1 is done by radiologist 0 at 137.59333636155907\n",
      "Image 16 is seen by radiologist 0 at 137.59333636155907\n",
      "Event processed\n",
      "Image 17 is seen by radiologist 3 at 138.15759559116793\n",
      "Event processed\n",
      "Image 10 is done by radiologist 5 at 147.41532653747407\n",
      "Image 15 is seen by radiologist 5 at 147.41532653747407\n",
      "Event processed\n",
      "Image 15 is done by radiologist 5 at 149.7213631342239\n",
      "Event processed\n",
      "Stopped at 30\n",
      "Image 0 is seen by radiologist 1 at 13.106311278108329\n",
      "Event processed\n",
      "Image 0 is done by radiologist 1 at 41.31326788603441\n",
      "Event processed\n",
      "Image 1 is seen by radiologist 0 at 46.36291922902852\n",
      "Event processed\n",
      "Image 1 is done by radiologist 0 at 61.08824311317881\n",
      "Event processed\n",
      "Image 2 is seen by radiologist 1 at 62.12256516161662\n",
      "Event processed\n",
      "Image 3 is seen by radiologist 0 at 83.78893493681224\n",
      "Event processed\n",
      "Image 3 is done by radiologist 0 at 85.00613010175498\n",
      "Event processed\n",
      "Image 4 is seen by radiologist 0 at 90.54028343137709\n",
      "Event processed\n",
      "Image 5 is seen by radiologist 2 at 93.38620628355574\n",
      "Event processed\n",
      "Image 6 is seen by radiologist 4 at 99.8918594531844\n",
      "Event processed\n",
      "Image 6 is done by radiologist 4 at 100.00411498292308\n",
      "Event processed\n",
      "Image 7 is seen by radiologist 4 at 100.31174430216426\n",
      "Event processed\n",
      "Event processed\n",
      "Image 2 is done by radiologist 1 at 105.36949290667656\n",
      "Image 8 is seen by radiologist 1 at 105.36949290667656\n",
      "Event processed\n",
      "Image 4 is done by radiologist 0 at 107.27840797334346\n",
      "Event processed\n",
      "Image 7 is done by radiologist 4 at 109.53441587133297\n",
      "Event processed\n",
      "Image 5 is done by radiologist 2 at 110.20391334474708\n",
      "Event processed\n",
      "Image 9 is seen by radiologist 0 at 121.1811397940917\n",
      "Event processed\n",
      "Image 9 is done by radiologist 0 at 125.20279786584199\n",
      "Event processed\n",
      "Image 10 is seen by radiologist 0 at 132.95448646659537\n",
      "Event processed\n",
      "Image 8 is done by radiologist 1 at 135.82971607003483\n",
      "Event processed\n",
      "Image 10 is done by radiologist 0 at 136.6704239845982\n",
      "Event processed\n",
      "Image 11 is seen by radiologist 1 at 145.20965206087942\n",
      "Event processed\n",
      "Image 12 is seen by radiologist 2 at 147.22991309321267\n",
      "Event processed\n",
      "Image 12 is done by radiologist 2 at 150.2325316500499\n",
      "Event processed\n",
      "Image 13 is seen by radiologist 2 at 165.69062735892712\n",
      "Event processed\n",
      "Image 14 is seen by radiologist 3 at 180.5010340914011\n",
      "Event processed\n",
      "Image 13 is done by radiologist 2 at 180.7013218878226\n",
      "Event processed\n",
      "Image 11 is done by radiologist 1 at 211.84732268411025\n",
      "Event processed\n",
      "Image 14 is done by radiologist 3 at 236.07107660358707\n",
      "Event processed\n",
      "Stopped at 30\n",
      "Image 0 is seen by radiologist 0 at 2.779125564206421\n",
      "Event processed\n",
      "Image 1 is seen by radiologist 1 at 11.287679196832226\n",
      "Event processed\n",
      "Image 2 is seen by radiologist 2 at 20.924634558046037\n",
      "Event processed\n",
      "Image 2 is done by radiologist 2 at 26.079740205851884\n",
      "Event processed\n",
      "Image 3 is seen by radiologist 2 at 36.24250784818045\n",
      "Event processed\n",
      "Image 0 is done by radiologist 0 at 42.61507441639107\n",
      "Event processed\n",
      "Image 1 is done by radiologist 1 at 47.92223598477959\n",
      "Event processed\n",
      "Image 4 is seen by radiologist 0 at 51.16632057547034\n",
      "Event processed\n",
      "Image 5 is seen by radiologist 1 at 54.11140935424744\n",
      "Event processed\n",
      "Image 5 is done by radiologist 1 at 88.33594539688417\n",
      "Event processed\n",
      "Image 6 is seen by radiologist 1 at 98.57287111745521\n",
      "Event processed\n",
      "Image 7 is seen by radiologist 3 at 112.12689065583021\n",
      "Event processed\n",
      "Image 8 is seen by radiologist 4 at 113.99339823806741\n",
      "Event processed\n",
      "Image 6 is done by radiologist 1 at 114.00889669210767\n",
      "Event processed\n",
      "Image 9 is seen by radiologist 1 at 116.69678453312385\n",
      "Event processed\n",
      "Image 10 is seen by radiologist 5 at 118.69565236083861\n",
      "Event processed\n",
      "Image 10 is done by radiologist 5 at 119.67662258485277\n",
      "Event processed\n",
      "Image 11 is seen by radiologist 6 at 120.70154776265296\n",
      "Event processed\n",
      "Image 12 is seen by radiologist 5 at 121.22506456777174\n",
      "Event processed\n",
      "Image 8 is done by radiologist 4 at 128.58349758837687\n",
      "Event processed\n",
      "Image 13 is seen by radiologist 4 at 133.01122836759998\n",
      "Event processed\n",
      "Image 14 is seen by radiologist 7 at 133.98032334935095\n",
      "Event processed\n",
      "Image 7 is done by radiologist 3 at 134.75882557176126\n",
      "Event processed\n",
      "Image 4 is done by radiologist 0 at 138.86372448558643\n",
      "Event processed\n",
      "Image 11 is done by radiologist 6 at 139.33144501329411\n",
      "Event processed\n",
      "Image 12 is done by radiologist 5 at 144.160634427074\n",
      "Event processed\n",
      "Image 15 is seen by radiologist 0 at 150.60332841284077\n",
      "Event processed\n",
      "Image 13 is done by radiologist 4 at 150.6685918270871\n",
      "Event processed\n",
      "Image 16 is seen by radiologist 3 at 151.3610633623679\n",
      "Event processed\n",
      "Image 17 is seen by radiologist 4 at 155.67507704955437\n",
      "Event processed\n",
      "Stopped at 30\n",
      "Image 0 is seen by radiologist 0 at 3.0055121347911475\n",
      "Event processed\n",
      "Image 0 is done by radiologist 0 at 6.442997502906089\n",
      "Event processed\n",
      "Image 1 is seen by radiologist 0 at 17.509425805024886\n",
      "Event processed\n",
      "Image 2 is seen by radiologist 2 at 19.74204194925821\n",
      "Event processed\n",
      "Image 3 is seen by radiologist 1 at 26.825514121139133\n",
      "Event processed\n",
      "Image 1 is done by radiologist 0 at 28.169601589548574\n",
      "Event processed\n",
      "Image 4 is seen by radiologist 0 at 29.721348732049822\n",
      "Event processed\n",
      "Image 3 is done by radiologist 1 at 38.90270737983412\n",
      "Event processed\n",
      "Image 4 is done by radiologist 0 at 39.51328712711398\n",
      "Event processed\n",
      "Image 5 is seen by radiologist 0 at 39.90743191180988\n",
      "Event processed\n",
      "Image 6 is seen by radiologist 1 at 51.39554250743944\n",
      "Event processed\n",
      "Image 7 is seen by radiologist 4 at 61.080507378567354\n",
      "Event processed\n",
      "Image 8 is seen by radiologist 5 at 62.05075583101596\n",
      "Event processed\n",
      "Image 2 is done by radiologist 2 at 67.79804136390996\n",
      "Event processed\n",
      "Image 8 is done by radiologist 5 at 68.36642296553623\n",
      "Event processed\n",
      "Image 9 is seen by radiologist 5 at 68.46674814276531\n",
      "Event processed\n",
      "Image 9 is done by radiologist 5 at 70.59157738158991\n",
      "Event processed\n",
      "Image 5 is done by radiologist 0 at 70.62929359053035\n",
      "Event processed\n",
      "Image 10 is seen by radiologist 0 at 101.53470793131227\n",
      "Event processed\n",
      "Image 6 is done by radiologist 1 at 112.52768629620385\n",
      "Event processed\n",
      "Image 11 is seen by radiologist 1 at 112.530691151967\n",
      "Event processed\n",
      "Image 11 is done by radiologist 1 at 113.1537270424486\n",
      "Event processed\n",
      "Image 12 is seen by radiologist 1 at 113.95051076191531\n",
      "Event processed\n",
      "Image 13 is seen by radiologist 5 at 114.32266855860695\n",
      "Event processed\n",
      "Image 14 is seen by radiologist 2 at 123.07654849283362\n",
      "Event processed\n",
      "Image 15 is seen by radiologist 6 at 123.19224436549436\n",
      "Event processed\n",
      "Image 7 is done by radiologist 4 at 130.52173906338336\n",
      "Event processed\n",
      "Image 15 is done by radiologist 6 at 145.50330090467287\n",
      "Event processed\n",
      "Image 16 is seen by radiologist 3 at 145.76422914439064\n",
      "Event processed\n",
      "Image 16 is done by radiologist 3 at 147.46962384882136\n",
      "Event processed\n",
      "Stopped at 30\n",
      "Image 0 is seen by radiologist 0 at 12.73550331096149\n",
      "Event processed\n",
      "Image 1 is seen by radiologist 1 at 17.712599471666095\n",
      "Event processed\n",
      "Image 1 is done by radiologist 1 at 21.807005136544632\n",
      "Event processed\n",
      "Image 2 is seen by radiologist 1 at 25.853757028959798\n",
      "Event processed\n",
      "Image 3 is seen by radiologist 2 at 29.65078575834862\n",
      "Event processed\n",
      "Image 3 is done by radiologist 2 at 32.15072233336172\n",
      "Event processed\n",
      "Image 4 is seen by radiologist 4 at 34.493521775365544\n",
      "Event processed\n",
      "Image 5 is seen by radiologist 2 at 34.75544911062843\n",
      "Event processed\n",
      "Image 4 is done by radiologist 4 at 35.672719591989285\n",
      "Event processed\n",
      "Image 6 is seen by radiologist 3 at 35.92187181233542\n",
      "Event processed\n",
      "Image 7 is seen by radiologist 4 at 37.734603894284554\n",
      "Event processed\n",
      "Image 6 is done by radiologist 3 at 40.11001749680593\n",
      "Event processed\n",
      "Image 0 is done by radiologist 0 at 40.37675643433363\n",
      "Event processed\n",
      "Image 8 is seen by radiologist 0 at 49.44912939785351\n",
      "Event processed\n",
      "Image 9 is seen by radiologist 3 at 52.35277921621782\n",
      "Event processed\n",
      "Image 9 is done by radiologist 3 at 53.33748716949286\n",
      "Event processed\n",
      "Image 10 is seen by radiologist 3 at 56.659054481158826\n",
      "Event processed\n",
      "Image 10 is done by radiologist 3 at 61.02406927835829\n",
      "Event processed\n",
      "Image 11 is seen by radiologist 3 at 64.49637065473863\n",
      "Event processed\n",
      "Image 5 is done by radiologist 2 at 67.73090455759151\n",
      "Event processed\n",
      "Image 2 is done by radiologist 1 at 67.89297784124955\n",
      "Event processed\n",
      "Image 12 is seen by radiologist 1 at 69.25215584754378\n",
      "Event processed\n",
      "Image 8 is done by radiologist 0 at 73.63736686788816\n",
      "Event processed\n",
      "Image 13 is seen by radiologist 0 at 79.30371859305023\n",
      "Event processed\n",
      "Image 7 is done by radiologist 4 at 80.03116656088628\n",
      "Event processed\n",
      "Image 14 is seen by radiologist 4 at 104.59744605208911\n",
      "Event processed\n",
      "Image 11 is done by radiologist 3 at 105.30636180826647\n",
      "Event processed\n",
      "Image 12 is done by radiologist 1 at 115.34827470848583\n",
      "Event processed\n",
      "Image 13 is done by radiologist 0 at 120.25769675896231\n",
      "Event processed\n",
      "Image 14 is done by radiologist 4 at 123.62401705316678\n",
      "Event processed\n",
      "Stopped at 30\n",
      "Image 0 is seen by radiologist 0 at 6.237860328162417\n",
      "Event processed\n",
      "Image 1 is seen by radiologist 2 at 9.318702906418462\n",
      "Event processed\n",
      "Image 1 is done by radiologist 2 at 10.182791334348105\n",
      "Event processed\n",
      "Image 0 is done by radiologist 0 at 16.402915890249997\n",
      "Event processed\n",
      "Image 2 is seen by radiologist 0 at 17.18514837999402\n",
      "Event processed\n",
      "Image 3 is seen by radiologist 4 at 18.300091305611947\n",
      "Event processed\n",
      "Image 2 is done by radiologist 0 at 24.556274118393613\n",
      "Event processed\n",
      "Image 4 is seen by radiologist 0 at 25.273983922320284\n",
      "Event processed\n",
      "Image 5 is seen by radiologist 1 at 28.205762597481097\n",
      "Event processed\n",
      "Image 5 is done by radiologist 1 at 30.700049592475715\n",
      "Event processed\n",
      "Image 6 is seen by radiologist 1 at 33.16775267956755\n",
      "Event processed\n",
      "Image 3 is done by radiologist 4 at 36.80248175566323\n",
      "Event processed\n",
      "Image 7 is seen by radiologist 2 at 44.17113247570788\n",
      "Event processed\n",
      "Image 7 is done by radiologist 2 at 44.214892888457925\n",
      "Event processed\n",
      "Image 8 is seen by radiologist 3 at 53.52556149844901\n",
      "Event processed\n",
      "Image 4 is done by radiologist 0 at 54.816855858759105\n",
      "Event processed\n",
      "Image 6 is done by radiologist 1 at 59.663803063186045\n",
      "Event processed\n",
      "Image 9 is seen by radiologist 0 at 81.76569079562553\n",
      "Event processed\n",
      "Image 10 is seen by radiologist 5 at 88.9460016823312\n",
      "Event processed\n",
      "Image 9 is done by radiologist 0 at 90.98798219402178\n",
      "Event processed\n",
      "Image 11 is seen by radiologist 1 at 95.55119040889869\n",
      "Event processed\n",
      "Image 12 is seen by radiologist 2 at 99.67983144575602\n",
      "Event processed\n",
      "Image 13 is seen by radiologist 0 at 107.07198830240849\n",
      "Event processed\n",
      "Image 14 is seen by radiologist 4 at 108.58197578739129\n",
      "Event processed\n",
      "Image 11 is done by radiologist 1 at 115.78234394490514\n",
      "Event processed\n",
      "Image 12 is done by radiologist 2 at 118.08287927915795\n",
      "Event processed\n",
      "Image 15 is seen by radiologist 7 at 121.49006432814497\n",
      "Event processed\n",
      "Image 8 is done by radiologist 3 at 124.32909865511147\n",
      "Event processed\n",
      "Image 14 is done by radiologist 4 at 128.98652093760498\n",
      "Event processed\n",
      "Image 15 is done by radiologist 7 at 130.15302197769356\n",
      "Event processed\n",
      "Stopped at 30\n",
      "Image 0 is seen by radiologist 0 at 24.343000496708214\n",
      "Event processed\n",
      "Image 0 is done by radiologist 0 at 25.844268618109258\n",
      "Event processed\n",
      "Image 1 is seen by radiologist 0 at 27.74412072516091\n",
      "Event processed\n",
      "Image 2 is seen by radiologist 2 at 32.793649064167624\n",
      "Event processed\n",
      "Image 3 is seen by radiologist 3 at 34.9840900716526\n",
      "Event processed\n",
      "Image 4 is seen by radiologist 4 at 36.403582206611404\n",
      "Event processed\n",
      "Image 5 is seen by radiologist 1 at 38.78611038915822\n",
      "Event processed\n",
      "Image 1 is done by radiologist 0 at 40.59966869731265\n",
      "Event processed\n",
      "Image 6 is seen by radiologist 0 at 41.06107127491154\n",
      "Event processed\n",
      "Image 6 is done by radiologist 0 at 41.56182030295227\n",
      "Event processed\n",
      "Image 5 is done by radiologist 1 at 41.614779937448546\n",
      "Event processed\n",
      "Image 7 is seen by radiologist 0 at 45.34728057485406\n",
      "Event processed\n",
      "Image 3 is done by radiologist 3 at 46.11120079410278\n",
      "Event processed\n",
      "Image 7 is done by radiologist 0 at 46.97668875281961\n",
      "Event processed\n",
      "Image 8 is seen by radiologist 3 at 53.137611231691366\n",
      "Event processed\n",
      "Image 9 is seen by radiologist 0 at 54.667406814604405\n",
      "Event processed\n",
      "Image 9 is done by radiologist 0 at 57.755804174261385\n",
      "Event processed\n",
      "Image 2 is done by radiologist 2 at 57.94046278830231\n",
      "Event processed\n",
      "Image 4 is done by radiologist 4 at 57.953082928954245\n",
      "Event processed\n",
      "Image 8 is done by radiologist 3 at 60.12117287179564\n",
      "Event processed\n",
      "Image 10 is seen by radiologist 0 at 62.50992214886192\n",
      "Event processed\n",
      "Image 11 is seen by radiologist 1 at 64.1099589189614\n",
      "Event processed\n",
      "Image 10 is done by radiologist 0 at 64.99815397572316\n",
      "Event processed\n",
      "Image 11 is done by radiologist 1 at 69.61326817395205\n",
      "Event processed\n",
      "Image 12 is seen by radiologist 0 at 88.98569786630244\n",
      "Event processed\n",
      "Image 12 is done by radiologist 0 at 113.61621782148389\n",
      "Event processed\n",
      "Image 13 is seen by radiologist 0 at 127.92506734675166\n",
      "Event processed\n",
      "Image 14 is seen by radiologist 1 at 130.24993087135323\n",
      "Event processed\n",
      "Image 14 is done by radiologist 1 at 134.21392368631632\n",
      "Event processed\n",
      "Image 15 is seen by radiologist 2 at 143.6207142066276\n",
      "Event processed\n",
      "Stopped at 30\n",
      "Image 0 is seen by radiologist 1 at 4.72045074997428\n",
      "Event processed\n",
      "Image 1 is seen by radiologist 0 at 11.782666993491386\n",
      "Event processed\n",
      "Image 2 is seen by radiologist 4 at 14.612092287686274\n",
      "Event processed\n",
      "Image 3 is seen by radiologist 3 at 23.3400868602723\n",
      "Event processed\n",
      "Image 2 is done by radiologist 4 at 27.154280054009547\n",
      "Event processed\n",
      "Image 4 is seen by radiologist 4 at 30.57773687192897\n",
      "Event processed\n",
      "Image 5 is seen by radiologist 2 at 30.728620757256923\n",
      "Event processed\n",
      "Image 6 is seen by radiologist 5 at 33.051383734330855\n",
      "Event processed\n",
      "Image 5 is done by radiologist 2 at 33.26064190206294\n",
      "Event processed\n",
      "Image 0 is done by radiologist 1 at 37.78248576823549\n",
      "Event processed\n",
      "Image 3 is done by radiologist 3 at 46.0294516907704\n",
      "Event processed\n",
      "Image 7 is seen by radiologist 6 at 67.8099077861862\n",
      "Event processed\n",
      "Image 8 is seen by radiologist 3 at 98.27941564975974\n",
      "Event processed\n",
      "Image 1 is done by radiologist 0 at 99.52065861039007\n",
      "Event processed\n",
      "Image 8 is done by radiologist 3 at 102.56377122867816\n",
      "Event processed\n",
      "Image 9 is seen by radiologist 0 at 106.8326648579935\n",
      "Event processed\n",
      "Image 9 is done by radiologist 0 at 110.85897998127228\n",
      "Event processed\n",
      "Image 10 is seen by radiologist 0 at 136.67324506509445\n",
      "Event processed\n",
      "Image 10 is done by radiologist 0 at 136.85215390011234\n",
      "Event processed\n",
      "Image 11 is seen by radiologist 0 at 151.63888858964373\n",
      "Event processed\n",
      "Image 12 is seen by radiologist 1 at 156.61553428704644\n",
      "Event processed\n",
      "Image 6 is done by radiologist 5 at 157.640711321382\n",
      "Event processed\n",
      "Image 13 is seen by radiologist 2 at 175.75881921898537\n",
      "Event processed\n",
      "Image 11 is done by radiologist 0 at 177.49080510371164\n",
      "Event processed\n",
      "Image 4 is done by radiologist 4 at 182.58962176757692\n",
      "Event processed\n",
      "Image 14 is seen by radiologist 0 at 182.85463716327666\n",
      "Event processed\n",
      "Image 14 is done by radiologist 0 at 193.24638713708276\n",
      "Event processed\n",
      "Image 12 is done by radiologist 1 at 236.57887757814464\n",
      "Event processed\n",
      "Image 7 is done by radiologist 6 at 308.19810807949125\n",
      "Event processed\n",
      "Image 13 is done by radiologist 2 at 332.5570330974208\n",
      "Event processed\n",
      "Stopped at 30\n"
     ]
    }
   ],
   "source": [
    "s_list = []\n",
    "for i in range(5,15):\n",
    "    s_list.append(sim(3, 10, i))"
   ]
  },
  {
   "cell_type": "code",
   "execution_count": 56,
   "id": "a2cea721",
   "metadata": {
    "ExecuteTime": {
     "end_time": "2022-04-01T16:55:10.925892Z",
     "start_time": "2022-04-01T16:55:10.773772Z"
    }
   },
   "outputs": [
    {
     "data": {
      "application/javascript": [
       "\n",
       "        if (window._pyforest_update_imports_cell) { window._pyforest_update_imports_cell('import matplotlib.pyplot as plt'); }\n",
       "    "
      ],
      "text/plain": [
       "<IPython.core.display.Javascript object>"
      ]
     },
     "metadata": {},
     "output_type": "display_data"
    },
    {
     "data": {
      "application/javascript": [
       "\n",
       "        if (window._pyforest_update_imports_cell) { window._pyforest_update_imports_cell('import matplotlib.pyplot as plt'); }\n",
       "    "
      ],
      "text/plain": [
       "<IPython.core.display.Javascript object>"
      ]
     },
     "metadata": {},
     "output_type": "display_data"
    },
    {
     "data": {
      "application/javascript": [
       "\n",
       "        if (window._pyforest_update_imports_cell) { window._pyforest_update_imports_cell('import matplotlib.pyplot as plt'); }\n",
       "    "
      ],
      "text/plain": [
       "<IPython.core.display.Javascript object>"
      ]
     },
     "metadata": {},
     "output_type": "display_data"
    },
    {
     "data": {
      "application/javascript": [
       "\n",
       "        if (window._pyforest_update_imports_cell) { window._pyforest_update_imports_cell('import matplotlib.pyplot as plt'); }\n",
       "    "
      ],
      "text/plain": [
       "<IPython.core.display.Javascript object>"
      ]
     },
     "metadata": {},
     "output_type": "display_data"
    },
    {
     "data": {
      "application/javascript": [
       "\n",
       "        if (window._pyforest_update_imports_cell) { window._pyforest_update_imports_cell('import matplotlib.pyplot as plt'); }\n",
       "    "
      ],
      "text/plain": [
       "<IPython.core.display.Javascript object>"
      ]
     },
     "metadata": {},
     "output_type": "display_data"
    },
    {
     "data": {
      "application/javascript": [
       "\n",
       "        if (window._pyforest_update_imports_cell) { window._pyforest_update_imports_cell('import matplotlib.pyplot as plt'); }\n",
       "    "
      ],
      "text/plain": [
       "<IPython.core.display.Javascript object>"
      ]
     },
     "metadata": {},
     "output_type": "display_data"
    },
    {
     "data": {
      "application/javascript": [
       "\n",
       "        if (window._pyforest_update_imports_cell) { window._pyforest_update_imports_cell('import matplotlib.pyplot as plt'); }\n",
       "    "
      ],
      "text/plain": [
       "<IPython.core.display.Javascript object>"
      ]
     },
     "metadata": {},
     "output_type": "display_data"
    },
    {
     "data": {
      "application/javascript": [
       "\n",
       "        if (window._pyforest_update_imports_cell) { window._pyforest_update_imports_cell('import matplotlib.pyplot as plt'); }\n",
       "    "
      ],
      "text/plain": [
       "<IPython.core.display.Javascript object>"
      ]
     },
     "metadata": {},
     "output_type": "display_data"
    },
    {
     "data": {
      "application/javascript": [
       "\n",
       "        if (window._pyforest_update_imports_cell) { window._pyforest_update_imports_cell('import matplotlib.pyplot as plt'); }\n",
       "    "
      ],
      "text/plain": [
       "<IPython.core.display.Javascript object>"
      ]
     },
     "metadata": {},
     "output_type": "display_data"
    },
    {
     "data": {
      "application/javascript": [
       "\n",
       "        if (window._pyforest_update_imports_cell) { window._pyforest_update_imports_cell('import matplotlib.pyplot as plt'); }\n",
       "    "
      ],
      "text/plain": [
       "<IPython.core.display.Javascript object>"
      ]
     },
     "metadata": {},
     "output_type": "display_data"
    },
    {
     "data": {
      "application/javascript": [
       "\n",
       "        if (window._pyforest_update_imports_cell) { window._pyforest_update_imports_cell('import matplotlib.pyplot as plt'); }\n",
       "    "
      ],
      "text/plain": [
       "<IPython.core.display.Javascript object>"
      ]
     },
     "metadata": {},
     "output_type": "display_data"
    },
    {
     "data": {
      "application/javascript": [
       "\n",
       "        if (window._pyforest_update_imports_cell) { window._pyforest_update_imports_cell('import matplotlib.pyplot as plt'); }\n",
       "    "
      ],
      "text/plain": [
       "<IPython.core.display.Javascript object>"
      ]
     },
     "metadata": {},
     "output_type": "display_data"
    },
    {
     "data": {
      "application/javascript": [
       "\n",
       "        if (window._pyforest_update_imports_cell) { window._pyforest_update_imports_cell('import matplotlib.pyplot as plt'); }\n",
       "    "
      ],
      "text/plain": [
       "<IPython.core.display.Javascript object>"
      ]
     },
     "metadata": {},
     "output_type": "display_data"
    },
    {
     "data": {
      "application/javascript": [
       "\n",
       "        if (window._pyforest_update_imports_cell) { window._pyforest_update_imports_cell('import matplotlib.pyplot as plt'); }\n",
       "    "
      ],
      "text/plain": [
       "<IPython.core.display.Javascript object>"
      ]
     },
     "metadata": {},
     "output_type": "display_data"
    },
    {
     "data": {
      "application/javascript": [
       "\n",
       "        if (window._pyforest_update_imports_cell) { window._pyforest_update_imports_cell('import matplotlib.pyplot as plt'); }\n",
       "    "
      ],
      "text/plain": [
       "<IPython.core.display.Javascript object>"
      ]
     },
     "metadata": {},
     "output_type": "display_data"
    },
    {
     "data": {
      "image/png": "[encoded data removed]",
      "text/plain": [
       "<Figure size 432x288 with 1 Axes>"
      ]
     },
     "metadata": {
      "needs_background": "light"
     },
     "output_type": "display_data"
    }
   ],
   "source": [
    "plt_mean_queue_length(s_list)"
   ]
  },
  {
   "cell_type": "code",
   "execution_count": 102,
   "id": "c6dc5eaa",
   "metadata": {
    "ExecuteTime": {
     "end_time": "2022-04-01T17:20:28.845655Z",
     "start_time": "2022-04-01T17:20:28.831654Z"
    }
   },
   "outputs": [
    {
     "data": {
      "text/plain": [
       "[<__main__.Radiologist at 0x2337b1dc148>,\n",
       " <__main__.Radiologist at 0x2337b1dcbc8>,\n",
       " <__main__.Radiologist at 0x2337b1dcf48>,\n",
       " <__main__.Radiologist at 0x2337b1b75c8>]"
      ]
     },
     "execution_count": 102,
     "metadata": {},
     "output_type": "execute_result"
    }
   ],
   "source": [
    "s1.rads"
   ]
  },
  {
   "cell_type": "code",
   "execution_count": 113,
   "id": "36510350",
   "metadata": {
    "ExecuteTime": {
     "end_time": "2022-04-01T17:35:03.751284Z",
     "start_time": "2022-04-01T17:35:03.742287Z"
    }
   },
   "outputs": [
    {
     "data": {
      "text/plain": [
       "[[<__main__.MedicalImage at 0x2337a8130c8>, 13, 3, 58.0636023839965, 5, 5],\n",
       " [<__main__.MedicalImage at 0x2337a813688>, 14, 1, 9.059331028477104, 2, 7]]"
      ]
     },
     "execution_count": 113,
     "metadata": {},
     "output_type": "execute_result"
    }
   ],
   "source": [
    "s1.rads[3].queue_data"
   ]
  },
  {
   "cell_type": "code",
   "execution_count": 84,
   "id": "da2a5d7b",
   "metadata": {
    "ExecuteTime": {
     "end_time": "2022-04-01T17:15:19.231444Z",
     "start_time": "2022-04-01T17:15:19.227445Z"
    }
   },
   "outputs": [
    {
     "data": {
      "text/plain": [
       "[18, 1, 4.2422429058002145]"
      ]
     },
     "execution_count": 84,
     "metadata": {},
     "output_type": "execute_result"
    }
   ],
   "source": [
    "queue_stats"
   ]
  },
  {
   "cell_type": "code",
   "execution_count": 101,
   "id": "a31e0271",
   "metadata": {
    "ExecuteTime": {
     "end_time": "2022-03-17T17:32:50.985479Z",
     "start_time": "2022-03-17T17:32:50.980478Z"
    }
   },
   "outputs": [
    {
     "data": {
      "text/plain": [
       "'w'"
      ]
     },
     "execution_count": 101,
     "metadata": {},
     "output_type": "execute_result"
    }
   ],
   "source": [
    "event[1][2][0]"
   ]
  },
  {
   "cell_type": "code",
   "execution_count": 45,
   "id": "6f92a105",
   "metadata": {
    "ExecuteTime": {
     "end_time": "2022-03-17T17:03:47.648804Z",
     "start_time": "2022-03-17T17:03:47.642802Z"
    }
   },
   "outputs": [
    {
     "data": {
      "text/plain": [
       "0"
      ]
     },
     "execution_count": 45,
     "metadata": {},
     "output_type": "execute_result"
    }
   ],
   "source": [
    "len([])"
   ]
  },
  {
   "cell_type": "code",
   "execution_count": null,
   "id": "5372f7a3",
   "metadata": {},
   "outputs": [],
   "source": []
  }
 ],
 "metadata": {
  "kernelspec": {
   "display_name": "Python 3",
   "language": "python",
   "name": "python3"
  },
  "language_info": {
   "codemirror_mode": {
    "name": "ipython",
    "version": 3
   },
   "file_extension": ".py",
   "mimetype": "text/x-python",
   "name": "python",
   "nbconvert_exporter": "python",
   "pygments_lexer": "ipython3",
   "version": "3.7.10"
  },
  "latex_envs": {
   "LaTeX_envs_menu_present": true,
   "autoclose": false,
   "autocomplete": true,
   "bibliofile": "biblio.bib",
   "cite_by": "apalike",
   "current_citInitial": 1,
   "eqLabelWithNumbers": true,
   "eqNumInitial": 1,
   "hotkeys": {
    "equation": "Ctrl-E",
    "itemize": "Ctrl-I"
   },
   "labels_anchors": false,
   "latex_user_defs": false,
   "report_style_numbering": false,
   "user_envs_cfg": false
  },
  "toc": {
   "base_numbering": 1,
   "nav_menu": {},
   "number_sections": true,
   "sideBar": true,
   "skip_h1_title": false,
   "title_cell": "Table of Contents",
   "title_sidebar": "Contents",
   "toc_cell": true,
   "toc_position": {},
   "toc_section_display": true,
   "toc_window_display": false
  },
  "varInspector": {
   "cols": {
    "lenName": 16,
    "lenType": 16,
    "lenVar": 40
   },
   "kernels_config": {
    "python": {
     "delete_cmd_postfix": "",
     "delete_cmd_prefix": "del ",
     "library": "var_list.py",
     "varRefreshCmd": "print(var_dic_list())"
    },
    "r": {
     "delete_cmd_postfix": ") ",
     "delete_cmd_prefix": "rm(",
     "library": "var_list.r",
     "varRefreshCmd": "cat(var_dic_list()) "
    }
   },
   "types_to_exclude": [
    "module",
    "function",
    "builtin_function_or_method",
    "instance",
    "_Feature"
   ],
   "window_display": false
  }
 },
 "nbformat": 4,
 "nbformat_minor": 5
}
